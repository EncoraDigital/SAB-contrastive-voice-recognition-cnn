{
 "cells": [
  {
   "cell_type": "code",
   "execution_count": null,
   "metadata": {},
   "outputs": [],
   "source": [
    "import pandas as pd\n",
    "import librosa, librosa.display\n",
    "import os\n",
    "import numpy as np\n",
    "import scipy, matplotlib.pyplot as plt\n",
    "import math\n",
    "import IPython.display as ipd\n",
    "import scipy\n",
    "import torch\n",
    "import torch\n",
    "from torch.utils.data import Dataset"
   ]
  },
  {
   "cell_type": "code",
   "execution_count": null,
   "metadata": {},
   "outputs": [],
   "source": [
    "# define the number of minimum and maximum records per speaker\n",
    "MAX_RECORDS_PER_SPEAKER = 50\n",
    "MIN_RECORDS_PER_SPEAKER = 40"
   ]
  },
  {
   "cell_type": "code",
   "execution_count": null,
   "metadata": {},
   "outputs": [],
   "source": [
    "tsv_filename = 'train' # choose one of 'train' or 'dev'\n",
    "filepath = tsv_filename + '.tsv'"
   ]
  },
  {
   "cell_type": "code",
   "execution_count": null,
   "metadata": {},
   "outputs": [],
   "source": [
    "# read validated.tsv file from Mozilla Voice Common dataset\n",
    "validated_tsv_file_path = '<path>/<tp>/datasets/en'\n",
    "validated_df = pd.read_csv(os.path.join(validated_tsv_file_path, filepath), sep='\\t')\n",
    "validated_df.head(6)"
   ]
  },
  {
   "cell_type": "code",
   "execution_count": null,
   "metadata": {},
   "outputs": [],
   "source": [
    "print(\"Data frame size:\", validated_df.shape)\n",
    "print(\"Number of unique speakers:\", len(validated_df['client_id'].unique()))"
   ]
  },
  {
   "cell_type": "code",
   "execution_count": null,
   "metadata": {},
   "outputs": [],
   "source": [
    "valid_records = {}\n",
    "counter = 0\n",
    "for group in validated_df.groupby('client_id'):\n",
    "    group_size = len(group[1])\n",
    "    # keep only speakers with a minimum number of audio samples\n",
    "    if group_size >= MIN_RECORDS_PER_SPEAKER:\n",
    "        valid_records[group[0]] = counter\n",
    "        counter += 1"
   ]
  },
  {
   "cell_type": "code",
   "execution_count": null,
   "metadata": {},
   "outputs": [],
   "source": [
    "valid_records"
   ]
  },
  {
   "cell_type": "code",
   "execution_count": null,
   "metadata": {},
   "outputs": [],
   "source": [
    "print(\"Number of valid records:\", len(valid_records))"
   ]
  },
  {
   "cell_type": "code",
   "execution_count": null,
   "metadata": {},
   "outputs": [],
   "source": [
    "valid_df = pd.DataFrame()\n",
    "\n",
    "for client_id in valid_records.keys():\n",
    "    group_df = validated_df[validated_df['client_id'] == client_id]\n",
    "    if len(group_df) > MAX_RECORDS_PER_SPEAKER:\n",
    "        print(\"More than {0} records for speaker: {1}\".format(MAX_RECORDS_PER_SPEAKER, client_id))\n",
    "        group_df = group_df.sample(n = MAX_RECORDS_PER_SPEAKER)\n",
    "    \n",
    "    valid_df = valid_df.append(group_df)\n",
    "\n",
    "valid_df = valid_df.reset_index(drop=True)"
   ]
  },
  {
   "cell_type": "code",
   "execution_count": null,
   "metadata": {},
   "outputs": [],
   "source": [
    "print(\"Valid dataframe size:\", valid_df.shape)\n",
    "print(\"Number of unique speakers:\", len(valid_df['client_id'].unique()))"
   ]
  },
  {
   "cell_type": "code",
   "execution_count": null,
   "metadata": {},
   "outputs": [],
   "source": [
    "# map client hashs to class ids\n",
    "valid_df['client_id'] = valid_df['client_id'].map(lambda x: valid_records[x])\n",
    "valid_df.tail()"
   ]
  },
  {
   "cell_type": "code",
   "execution_count": null,
   "metadata": {},
   "outputs": [],
   "source": [
    "# save the valid subset for processing\n",
    "valid_df.to_csv(tsv_filename + '_valid.tsv', index=False, sep='\\t', header=True)"
   ]
  }
 ],
 "metadata": {
  "kernelspec": {
   "display_name": "pytorch",
   "language": "python",
   "name": "pytorch"
  },
  "language_info": {
   "codemirror_mode": {
    "name": "ipython",
    "version": 3
   },
   "file_extension": ".py",
   "mimetype": "text/x-python",
   "name": "python",
   "nbconvert_exporter": "python",
   "pygments_lexer": "ipython3",
   "version": "3.6.6"
  }
 },
 "nbformat": 4,
 "nbformat_minor": 2
}
