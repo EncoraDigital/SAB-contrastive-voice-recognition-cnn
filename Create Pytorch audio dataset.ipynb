{
 "cells": [
  {
   "cell_type": "code",
   "execution_count": 1,
   "metadata": {},
   "outputs": [],
   "source": [
    "import pandas as pd\n",
    "import shutil\n",
    "import os\n",
    "import torchaudio\n",
    "import IPython.display as ipd\n",
    "import time\n",
    "import torch\n",
    "import scipy\n",
    "import scipy, matplotlib.pyplot as plt\n",
    "import IPython.display as ipd\n",
    "import librosa\n",
    "import librosa, librosa.display\n",
    "import pandas as pd\n",
    "import numpy as np\n",
    "import math"
   ]
  },
  {
   "cell_type": "code",
   "execution_count": 2,
   "metadata": {},
   "outputs": [],
   "source": [
    "# define the path to the valid (filtered) data frames created with \"Create Valid Records From Voice Common DataFrame.ipynb\"\n",
    "input_tsv_filename = '<path>/<to>/train_valid.tsv'"
   ]
  },
  {
   "cell_type": "code",
   "execution_count": 3,
   "metadata": {},
   "outputs": [],
   "source": [
    "SAMPLE_RATE=16000 # sample rate\n",
    "MAX_DURATION=1.6 # max duration allowed for a given record"
   ]
  },
  {
   "cell_type": "code",
   "execution_count": 9,
   "metadata": {},
   "outputs": [],
   "source": [
    "basefolder ='/media/thalles/81abf123-2564-42b2-acbc-86f4bb0b0ff6/home/thalles/Documents/datasets/en/clips'"
   ]
  },
  {
   "cell_type": "code",
   "execution_count": 4,
   "metadata": {},
   "outputs": [
    {
     "data": {
      "text/html": [
       "<div>\n",
       "<style scoped>\n",
       "    .dataframe tbody tr th:only-of-type {\n",
       "        vertical-align: middle;\n",
       "    }\n",
       "\n",
       "    .dataframe tbody tr th {\n",
       "        vertical-align: top;\n",
       "    }\n",
       "\n",
       "    .dataframe thead th {\n",
       "        text-align: right;\n",
       "    }\n",
       "</style>\n",
       "<table border=\"1\" class=\"dataframe\">\n",
       "  <thead>\n",
       "    <tr style=\"text-align: right;\">\n",
       "      <th></th>\n",
       "      <th>client_id</th>\n",
       "      <th>path</th>\n",
       "      <th>sentence</th>\n",
       "      <th>up_votes</th>\n",
       "      <th>down_votes</th>\n",
       "      <th>age</th>\n",
       "      <th>gender</th>\n",
       "      <th>accent</th>\n",
       "    </tr>\n",
       "  </thead>\n",
       "  <tbody>\n",
       "    <tr>\n",
       "      <th>0</th>\n",
       "      <td>0</td>\n",
       "      <td>common_voice_en_18747125.mp3</td>\n",
       "      <td>At this time, the settlement was known as Kenn...</td>\n",
       "      <td>2</td>\n",
       "      <td>0</td>\n",
       "      <td>twenties</td>\n",
       "      <td>male</td>\n",
       "      <td>us</td>\n",
       "    </tr>\n",
       "    <tr>\n",
       "      <th>1</th>\n",
       "      <td>0</td>\n",
       "      <td>common_voice_en_18747126.mp3</td>\n",
       "      <td>The store now also holds many evening literary...</td>\n",
       "      <td>2</td>\n",
       "      <td>0</td>\n",
       "      <td>twenties</td>\n",
       "      <td>male</td>\n",
       "      <td>us</td>\n",
       "    </tr>\n",
       "    <tr>\n",
       "      <th>2</th>\n",
       "      <td>0</td>\n",
       "      <td>common_voice_en_18747127.mp3</td>\n",
       "      <td>The area included was east of the Kennebec River.</td>\n",
       "      <td>2</td>\n",
       "      <td>0</td>\n",
       "      <td>twenties</td>\n",
       "      <td>male</td>\n",
       "      <td>us</td>\n",
       "    </tr>\n",
       "    <tr>\n",
       "      <th>3</th>\n",
       "      <td>0</td>\n",
       "      <td>common_voice_en_18747128.mp3</td>\n",
       "      <td>The town was named after the biblical Land of ...</td>\n",
       "      <td>2</td>\n",
       "      <td>0</td>\n",
       "      <td>twenties</td>\n",
       "      <td>male</td>\n",
       "      <td>us</td>\n",
       "    </tr>\n",
       "    <tr>\n",
       "      <th>4</th>\n",
       "      <td>0</td>\n",
       "      <td>common_voice_en_18747129.mp3</td>\n",
       "      <td>The two books end exactly the same way.</td>\n",
       "      <td>2</td>\n",
       "      <td>0</td>\n",
       "      <td>twenties</td>\n",
       "      <td>male</td>\n",
       "      <td>us</td>\n",
       "    </tr>\n",
       "  </tbody>\n",
       "</table>\n",
       "</div>"
      ],
      "text/plain": [
       "   client_id                          path  \\\n",
       "0          0  common_voice_en_18747125.mp3   \n",
       "1          0  common_voice_en_18747126.mp3   \n",
       "2          0  common_voice_en_18747127.mp3   \n",
       "3          0  common_voice_en_18747128.mp3   \n",
       "4          0  common_voice_en_18747129.mp3   \n",
       "\n",
       "                                            sentence  up_votes  down_votes  \\\n",
       "0  At this time, the settlement was known as Kenn...         2           0   \n",
       "1  The store now also holds many evening literary...         2           0   \n",
       "2  The area included was east of the Kennebec River.         2           0   \n",
       "3  The town was named after the biblical Land of ...         2           0   \n",
       "4            The two books end exactly the same way.         2           0   \n",
       "\n",
       "        age gender accent  \n",
       "0  twenties   male     us  \n",
       "1  twenties   male     us  \n",
       "2  twenties   male     us  \n",
       "3  twenties   male     us  \n",
       "4  twenties   male     us  "
      ]
     },
     "execution_count": 4,
     "metadata": {},
     "output_type": "execute_result"
    }
   ],
   "source": [
    "valid_df = pd.read_csv(input_tsv_filename, sep='\\t')\n",
    "valid_df.head()"
   ]
  },
  {
   "cell_type": "code",
   "execution_count": 5,
   "metadata": {},
   "outputs": [
    {
     "name": "stdout",
     "output_type": "stream",
     "text": [
      "Dataset shape: (3009, 8)\n",
      "Number of unique speakers/classes: 257\n"
     ]
    }
   ],
   "source": [
    "print(\"Dataset shape:\", valid_df.shape)\n",
    "print(\"Number of unique speakers/classes:\", len(np.unique(valid_df.client_id)))"
   ]
  },
  {
   "cell_type": "code",
   "execution_count": 6,
   "metadata": {},
   "outputs": [],
   "source": [
    "def random_pitch_shift(audio, sample_rate):\n",
    "    n_steps = np.random.uniform(low=-1, high=1)\n",
    "    original_size = audio.shape[0]\n",
    "    audio = librosa.effects.pitch_shift(audio.numpy(), sample_rate, n_steps)\n",
    "    return torch.from_numpy(audio[:original_size])"
   ]
  },
  {
   "cell_type": "code",
   "execution_count": 7,
   "metadata": {},
   "outputs": [],
   "source": [
    "def random_time_stretch(audio):\n",
    "    speed_factor = np.random.uniform(low=0.8, high=1.2)\n",
    "    original_size = audio.shape[0]\n",
    "    audio = librosa.effects.time_stretch(audio.numpy(), speed_factor)\n",
    "    return torch.from_numpy(audio[:original_size])"
   ]
  },
  {
   "cell_type": "code",
   "execution_count": 8,
   "metadata": {},
   "outputs": [],
   "source": [
    "def _remove_silent_frames(audio, top_db):\n",
    "    indices = librosa.effects.split(audio, top_db=top_db)\n",
    "\n",
    "    trimmed_audio = []\n",
    "    for index in indices:\n",
    "        trimmed_audio.append(audio[index[0]: index[1]])\n",
    "\n",
    "    return torch.cat(trimmed_audio, dim=0)"
   ]
  },
  {
   "cell_type": "code",
   "execution_count": 10,
   "metadata": {},
   "outputs": [],
   "source": [
    "def timeit(function):\n",
    "    def wrapper(*args, **kwargs):\n",
    "        start = time.time()\n",
    "        audio = function(*args, **kwargs)\n",
    "        end = time.time()\n",
    "        print(\"Ellpased time:\", end-start)\n",
    "        return audio\n",
    "    return wrapper"
   ]
  },
  {
   "cell_type": "code",
   "execution_count": 11,
   "metadata": {},
   "outputs": [],
   "source": [
    "def _prepare_input(audio, duration, sample_rate):\n",
    "    # get audio duration\n",
    "    audio_duration_ms = audio.shape[0]\n",
    "\n",
    "    # get the desired duration in ms\n",
    "    duration_ms = math.floor(duration * sample_rate)\n",
    "\n",
    "    # duration: length of the cropped audio in seconds\n",
    "    if audio_duration_ms <= duration_ms:\n",
    "        # print(\"Passed duration greater than audio duration of:\", audio_duration_secs)\n",
    "        audio = torch.nn.functional.pad(audio, (0, duration_ms - audio_duration_ms), \"constant\", 0)\n",
    "        return audio\n",
    "    else:\n",
    "        idx = np.random.randint(0, audio_duration_ms - duration_ms)\n",
    "        audio = audio[idx: idx + duration_ms]\n",
    "\n",
    "    # data augmentation\n",
    "    p1 = np.random.rand()\n",
    "    p2 = np.random.rand()\n",
    "    if p1 < 0.5:\n",
    "        audio = random_time_stretch(audio)\n",
    "    elif p2 < 0.5:\n",
    "        audio = random_pitch_shift(audio, sample_rate)\n",
    "\n",
    "    return audio"
   ]
  },
  {
   "cell_type": "code",
   "execution_count": 12,
   "metadata": {},
   "outputs": [],
   "source": [
    "resample = torchaudio.transforms.Resample(48000, new_freq=SAMPLE_RATE)"
   ]
  },
  {
   "cell_type": "code",
   "execution_count": 13,
   "metadata": {},
   "outputs": [],
   "source": [
    "dataset = []\n",
    "labels = []\n",
    "\n",
    "# create dataset \n",
    "for client_id, record in valid_df.iterrows():\n",
    "\n",
    "    filename = record['path']\n",
    "    target = record['client_id']\n",
    "\n",
    "    try:\n",
    "        audio, sample_rate = torchaudio.load(os.path.join(basefolder, filename), normalization=True)\n",
    "        audio = resample(audio)\n",
    "        audio = audio.flatten()\n",
    "        audio = _remove_silent_frames(audio, top_db=40)\n",
    "        output = _prepare_input(audio, duration=MAX_DURATION, sample_rate=SAMPLE_RATE)\n",
    "        \n",
    "        dataset.append(output)\n",
    "        labels.append(target)\n",
    "        \n",
    "    except Exception as ex:\n",
    "        raise(ex)\n",
    "        print(\"Skipping audio file:\", filename)"
   ]
  },
  {
   "cell_type": "code",
   "execution_count": 14,
   "metadata": {},
   "outputs": [
    {
     "name": "stdout",
     "output_type": "stream",
     "text": [
      "Dataset size (number of records): 3009\n",
      "Targets dataset size: 3009\n"
     ]
    }
   ],
   "source": [
    "print(\"Dataset size (number of records):\", len(dataset))\n",
    "print(\"Targets dataset size:\", len(labels))\n",
    "assert len(dataset) == len(labels), \"Dataset and labels lists must match is length\""
   ]
  },
  {
   "cell_type": "code",
   "execution_count": 15,
   "metadata": {},
   "outputs": [],
   "source": [
    "# save the dataset\n",
    "torch.save({\"data\": dataset, 'targets': labels}, \n",
    "           os.path.join('pytorch_dataset', os.path.splitext(input_tsv_filename)[0] + '.pt'))"
   ]
  },
  {
   "cell_type": "code",
   "execution_count": 24,
   "metadata": {},
   "outputs": [
    {
     "data": {
      "text/html": [
       "\n",
       "                <audio  controls=\"controls\" >\n",
       "                    <source src=\"data:audio/wav;base64,UklGRq6yAABXQVZFZm10IBAAAAABAAEAgD4AAAB9AAACABAAZGF0YYqyAAAJCzsRqBEaDscMuRBcFgcZFRhZFJURqROKFt4VjBE9DzERkBFWDl0KwQerBx4JDwhJBQwD1ALcA5kB6/qO9bH03fNU8pDwhO3A6QPpEOs87dvq9Od67Z/yHfKh8mnwte5B89T4n/xg/jz+vQBlAnMCywbVC5MMGguqCkwKAA9pE2gTsxDjD8gORw7QDpANswyaDRAObQ5aDk0MWgmaBr4GUgfYBUEAoPtr+2D7n/i49nn2PvdD9qLzlvIu8jnxRvKj9O3zY/RS93H5wPlG+oL6uPm9+gP+1f+o/13+Vf4vAPIB+QLaA9wDfwSrBowHeQQAA2wFygeBB6sFfAfnCcIIHgS8AMT/vgEDBPECgP9Y/d/9gP0A/ZX8fPu9+g78MPxN+S/0PfA78Sf0L/do92H1A/Sj9M715/dl+f/6cPsU+8n7Cv65/vn+tf/MAEIDUwbvBRECGgJIB/4KxwiSBP0DkQf4Ck0LUAhoBOMEQAlkC+kIqgVsBM4EagawBioFAwLRACwCNgO1/wn6cvc3+YL8jfx7+a71XPX2+Az8VvsX+i75qvjj+cj8iP5L/TL6zvjw+zL/CP8e/m3/XwJYA5IBPQC8Ah0G7wewB5kE3wAiA0wIdwpvCLAFjgQNBSUFqAVdBl8FbAOuAq8C5AFjAOf/fQGRAqwCUQBo/u//dQOEA0UAHP9ZAO3/D/7M/cv/hwDF/pv8Hfw5/BL81P0fAJD/ifyZ+zb8yvzI/bT/rP9+/T77GPxX/vv/LQFrAj8CMQHbAPMBQAPQA70COgFjAJT/h/88/0/+Ev6K/kr9BP16/18BDgHz//X+IP/9AOMDSwTDAcP/gAEsBTIFmAHh//cBCQQdAzsB/P8p/0n+bP4V/4X/MP7g/HH9CP9V/mz9xf70AekCJwAf/oz+QwBRApQCGf9C/CD99v+tANH/ZP6a/vv/YQG1AHr/dQB5AlADrwJ1AbT/a/4aAK8D+AUqBDr/ufyV/xMEKQUOA28Al/6T/tf/sP9l/24AQwHk/1r+2/z7/Jr+/gCgAfkAe/7k+rT5Df1MAMb/ZvzR+X/6Ifyg/Fj8V/71AP0AU/5k/Nb8Qv96AnkEXwOM/wT9RP4iArQFMwa7Akf/G/8GAQoDLwIiALb+r/7//fT8ivyj/nkAwf8y/bn72fwD/2T/4P76/ob+Ov12+3n71Pwg/nn+Mf5W/U38kft3/Aj/HwEPARf/lf2p/ef+OAAwAcEAZv/l/mb/wgCXAuYDGwNqAY0AmgFLAyIEQwT5Ak0A4v35/YP/nAI/BEsCzP35+5z9DQGnApgBqP4x/Dn8Cf6E/uT8Lfyl/cb/WQA9/pX7p/z0AS0GTgXpAIP+oADEBOcF4APdAV4CvQJkAmMBYAFrA5AFOQRNAYwAmQFGAyAEkAKr/rz8kP1G/5EA6/8x/uj8jP22/uf+6v3U/dr9of1d/Oj6ifp5+138Kv06/RX9Yvx/+xD8sv5LAfEBvQCJ/+b/HgERAjsChgLVAhoDgQOVAxoDGwNjBJ0FQgVZBCwEggTbBHUEawLz//L+pAC3AkUCvf57+wD7/v2XANn/V/14/HT8VPwu/Ev8sfzz/N39Cf///jr9wfyT/oIB5QKwAhwBXADZAI8CqwOzAwgDXQLfAagCCQTsBOkEuQOZAggCKgMcBUUF1QLLALf/j/+zAP4BvwLLAf7/IP7Z/aL+mP9EAGz/e/10+yP6rvoD/Ov7Pftc/EX9Yfz0+l77C/5ZAKwAjQAdAYEBdAG9AccCMgM2AzgDVgLxAegC3wReBTwEtwJTAqMDQQXWBQ0EfQEeAAcALQA8AE0AyP/u/xH/R/0I/MT8hP62/xH/Tf2Z+2f7qvt8+5b77Pwz/vD8lfqt+d/60vxO/gn/+v6D/gL+Zv6l/ykBXQF/ACgAygAAAncDHQNRAWkAKQHlAk4DvQJNApUBhgAbAG4AswCNAJAAoP8E/oH8ffvm+3P9WP2E+7r5pPlF+138Pvz5+1T8gfwA/br9Yv3J/Gv9ZP7t/sv+av5B/pn+4P6e/xoAJQBg/+b/ggD0ABIBEwAaAM4AAwG8ALkAcgA4/1L+fv5i/z8AMAAj/wD+jP1P/UT9+vzc/PL8EP0w/Sv93vzY/Jz9qP7h/oj/RAD3/zH/wP6//y8BPgJkAnABZgEoAR0BbAKiAyoDeQFHAQYDRwQ0AzsBagAAARwClQLnAXMAwP/r/ywAaACkAJ8A5gAuAAL/Xv2h/AT9d/6H/t38q/tm/CL+8v40/oP9YP6UAPgBXQEDADYA5wDJAMQAwwEwAigB9AA+AewBDgL8AbAB4gFbAu4CYAKIARIBmQF7AocD/gNVAmMB5AL1BCEEigG2AEcCuAQgBCwBxP5b/z8CDAT6AjQAxP8/AhIEigQGBMMDxAO9BBcGBAYHBR0EbQTCBb0FTwOvAckCuAS3BJQDyQHEAdECAAQpAzQBSQDZ/2YAYwG6AagA4f6g/i0AogGIASkAH/9M/7b/q/8P/l38bvwt/gj/rP0Z/Gf8e/7X/y4AsgCPAZkCqAMuBd0FmAQ5A14DZgQwBMcC2gEqAZQBKQPvA/MC1wGmAp0DFAOXAUMA4f/n/ygADwBb/yj/m/+Q/5z+cP0p/Xz9iv3W/O/7B/tk+/L7xPz/+3b6+fmn+6X8LP1n/XT+ff+FATsEWgYwBkMFlgNdAvEBgwH4APQAJAEeAQMBfAFHAkoDXwMiA/kBrAA0AGoAAAGoAIv+Uv1r/an+3v78/Pr5HvsJ+wb7CPqy+Jv4Wfz0/V//d/4N/eb8j/3M/ob+NP1h/SIA3AOZBuoHhwZsAsT+B/vy91r1BPVc9M72Efh3/BIB0gTiBcIGcQTWAtcAWwAdAlkEugRwA73+Vvt6+Er0cfKT8T/z0PfC/k4Hew0HEdoR5A/MCcj/vfbg7rLqaupk7U/zlfv3BeEPhRU6FPkMVwLT9xrw8Ont6C3qnvJL+4MDCQw+EqMY4hsUG24WJw99Cr8ISwRNAuX+Kv4j+6z6yPs+/EL7Hfp6+cn6TPz0/KT89v20AE8A1P2O/Bv90P9i/7//hgF9AyEI2gmbCRQJxAVt/i3zkOwM6xPq/uyT9/ADDA6vFcwaWR6xH0kebBm0Da4EHQGD/i/9f/+hAu4BfQBe/0IA2P0m+d/yre7c6HDl4+Xe6Anv7PgAALAFlAgtDIYMEgfb/pf1re2d6GPot+y39DT9XwZ8DEANXQu7Ct0FYv269HjwFe6o7Wnx7Px0CH0QVBZwGvMZCBbPESwKcQP+/EX4IvQ69OL1P/k6/XcBqQWzBfYEHwKp/pL62fel9kP1N/X79sH4Efkr+ZP6L/1b/vL92fyL/HT5rfeJ9kH3cvco+Mb5mvto/qz/ZQKwA54GnghICUUIMwemBjQEsAIoApsAjv9f/Vz8NvsR+qb6Of1B/9z/xgDg/3j/mP+hAM3/6/zN+4b8lf0y/Xf70/oi/GT+TP+W/+/9qfxU/BH8JvxT+8j4n/cl99r3B/nY+X/72/6gArEEgQVqBnwGiQQ/A9oAjP64+8H5RvgM+lr6rPo//AL/3QE1AlACbwGlAPb9GPws+tP3XvaP9qj47/mk+lD7zPxyAOID9gWqBX8DzgEuAjQDUgHg/Vr60fiM+VX71/yL/YL+ov+XAfQDuAOEAlUBlAKTApwAjP7A/OP86f3S/9MABQK4AuYDiQS9A0gCpQBK/3cADAHQ/oX9Iv5TAOcBKAJqAkEEaAVRB7MJpQirBZoESQZ+BzQG0gOzAbH/df9yAMYBlQI3AzAFHQfJCEYJYQeCBV0FsAUTBJoBwP7J/kkAYQIaAwcDawQDBnYHBAfNA7kAAf+T/if/Q/5P/sH/twBQAzUFhAXeBQgHVAkhCs8HzQW5BkkHDwi/CMAH7AW+BD4EJgPPAdwBlQLEAi0ErwYyCFcHnAfOCdIJ4gdJBjQDhgBJABABMQE5/yr+4v6V/2EApv9V/3X/M/6l/Rj+G/2L/WX9g/0pAFkARgC4AXkEWQfmCKIHrgXEBIUD4QBh/lj8Ifr/+er6j/qP+q/9ZgGrBBUG2gTABf8G3wYBCE0GQgDc/OP73/rX+aX35fal95D45/he+e75nvtt/KD8Wft4/MD+LP8nAaABa/91/Ej7+fvv/Br9Zv36/mYBHwNZA7EC/ABQ/1P9BPvt+W/4tvZg93741voI/p3/RwE/A08DTQN1AvD/l/5v/tb/F/9g/Tv75Pg499P1ivUR9brzu/I+9bT3Bvt1/Qn//gBjAZcA0/3F/HH80vs2/M38lv3p/uD/Hf8e/2r+f/3L/JX77vzo+3b9cwCuAlIG2gbJCGkJuAbaBIUCJv9h/ef64PkD/mn/3gAMAID+Qf0J/H39lv+nACP/5PyB/fT9IP/dAHkBlgFtAfv+3/2Q/jn9z/zE+wX8y/0hAFQBvgE0AScBoQApAMr+yf2s/sQAEQTeA20DRQTtBs8JFwnQByQHjgR2AvQAyf+0AE3/Z/6Y/WH7vvkF+7v9ewEnBGgDRAMQBAwD4wGA//T8r/ym/HT7yv1P/9b/dAGYApMD1QPAA4cEEgRAARoBsAHEAokCCwPkBK8DnQLsAmoB9wH/A9UE7gWjBxUJVgd2A7UBJv8P/X787Pz2/H/9Bv8UAa4DdQXbBFwD/ACv/Vz8G/ym+6P7C/vf+2r90/+RAfcCUQOqAXz/mf6n/5cA5/5K/vD9HP05/rf+wQBnApsDiwQwA5kBJwLiAZIBvALpA5kDfAEF/2n+xP3t+YL2H/an+Pz7fv0cANUBLQPjBEEEwAHV/LX5Ivno93n22/Z5+NP4NvyNAJsBogEG/5L9K/6u/Yz/1f99/o3+n/5O/hz+Xv3W/ooB2f/3/cf/uQFSBGIFiQSeBK4BpP2r/Cv70vgU+IP3pPnL/PL/OwJMAr4CUQTcBH4EvgIkAV7/Wf3K+p76jvrO+bL6rfxi/VD+Ff86AMkCaASKBMcEWASPA6IBq/8I/WL8evtd/O7+Tv/jAH0CVwNzBDsE+AORAqr/c/05/PT7d/x8/bn9EP+tAOYCtQM9BNoF9gWABFoDBgE5APD+ovy5+xP8dfwa/E39+f5i/5AAjwFgATICLQNHA1ADaQRwBBoCQf/J/a78xv3D/lMANQBJAO8BigJoAmMCNgK3AAz/AP7A/sAAlAHBAUED7gT8BHcFKwVBBZUE/gJKAtEA5gDcAf8BpwL2ApQCBgKaAawC5gKgAYEACgCIAD8CkAJrAjkD9QPkBO8DlwEnAA//TP9u/rn/CwKfA2YEAQR4BNsF4AU8BTADAwG8ACcCZwM5BKwE9QXRBpsGbAYnBIICjwKoAg0CNQCM/u/+8f+SAGUBhwGRAWUBCQI9AvMABwC4/v39HP3I+3j7qvxk/aH96ftP+7n8mfxp/PT7Xfwj/Yz9wf3B/RP/ygC3AaYAn/+j/0oAEQFUARcBKgE3AREC1QMNBLUD7AF6AacBUwFrAI7/NABeABkAjf7v/VT+gv75/e78bvt3+qb69vv9/Kv8p/yS/NX68/fn9Q32Q/bV9Y314fZx+GP5avp/+0b99v2p/Sn9zPwT/CL8H/1g/44AFwHhAYMCgQOLAk8A4/6p/vD/9v+E/9z/awBJAI8ARQCA/4D+9f0t/Wn8c/se+1L7nPty/L/7YftL+rP4vPaq9Bjz/PEm8gP04/aD+tr8h/3X/Kj9Vv4a/i79j/tQ+q35Evtx/Xv/UwFtA98DkQI9AjQCOALiAOf/GwBYAAQB1ALxBD4FyASmA+wBYgCt/yMA+gBNAXQC+wA8/pv7Vvo6+fH2OvR+8kXxl/DI8ab0PviS+qD6yvlG+b35RfuL/Aj+Ff/EAGwCygQABzMJuwkhCQEHoQQmBPUEIAcqCDUK3g1RE8cX0xm8GV8X4xMdEFYNPwnGBVIDnAL8AeYAcgAV/6z8v/sC+w74P/IH7bHq5eg16IDrVvKf9mT3UPhW+mX5g/Qb8H7tjevS6ubsI/JX+S0FNBOvIYotTTXROdY69zlCNZAt6CRNHBEUAAw6BnsByv34+kX6t/lS+Z/6cv6qAgAE/AM8AlT96vgv+x/+0fpq8qnrCOTR1iTKksIVvtO5drrnwzvVaupDASkZJjDeQkpMXE06Ryg8SC5gHy0StwZY//37Nv7uA74JXA21D6cRLhLIEIQN/AjDA40A4P+Y/37/M/8M/k/7q/cm9lD4+fjc9uPxju234zzU2MPWt4yuz6dPqmi2TcoG5FYDJiUmQi1W6l9eYB1XqUQlLTcUgf+p78Ln/ea67VT4+AIIDIISrxXRFL0Rgw8LC4cF8ADOAVYEowRYBGQEiwMA/579uwIjB00EB/uT8tvlwdMEwWWwn6PPmvqbWKn5wTjiXwR1Kd5LMGdXcoJw/WMZTeku0RAC+PjkaNlY1gfeQOsv+s8HqxNZG7UdvBuiGIEUXxDaDJoLJQp8B14DcgD+/PD3x/TW+84F1AlKBef+G/W64PLI+rGMoMORZYtflD6s1dC9+Zgk2U1ubc99SnyBbh5UjjKBD+buwtX4x6LIUdQc5TT3VQfiE1YeLiRcJi0klh9HGYITog4gCusEOP5L90Xyb/CI8BfxS/oZCBMTdBLlCPD5yOGPxTSqkJYNilqIG5i0uLjjcA+iOqVgB3r/f9Fy0VnqNt8Qwe1x1sXKC8kl0GrgvPdTDcIdVid0K0cq9SXiIKAbbBRlDZgHowM6/3D7kvd/9TT0I/Kf8nT8rw1UGOUUDQn6+T3hIcHNo+CQt4exiRScz7/h7V0cRkWgZvB6T3tMZghG8SO8AeTgvMlewXDHt9QD5+f77Q9tHX4j9CYAKVInnyElHLMYtRbxEW0LNwKh+FTwCezI6x3tnu/z9HoEihU2HjYX9QQG7F/LmKrWj0mDLYTqlSO4ZuVYFoVBVWJcdXl4RmnySOQfU/ew1eK9TbMMuEXJWOLw/GIVEyfJMF4zQzB/KqQgpRU/Cl4Cyf2v+wb68vex9tP0LPbp+BL8JP5GBuoQvhWmDUP9dOh5y/isNJVVi+uMXp1KvhjrAhwGRBBfg2tPaThYgTpYGuP8PeJVzf/EVspP1NjgY/HGBnUayidULwk0KjW2MDEpxh7PEP8AnfNS65foWenk7cX1ov4DCJQNGBFFF/IYdg+N93beGcizsiShFJnFniysecNa5IwM1DEkS+hYqVvsU0s+BSCNA3rs1NtU0LrNr9MF41j0AQfuF6knajJJM/cuHCiCH4ETWQfn/AL3W/NJ9An6PgK+CRgPsxJIEL4IXQN2BaQEkPvQ6a3aMMwNvtC2X7RBuYzCB9cP85kSji85RK5RbVVMTjg6PR7ZA//vdOIG2pnW1tmD5Zz49AxoHuArBTR1N6M2XDJvJ0cYgAiS/HT0A/GX8hH3yv6HB0sTuRroG5cT0gnQBs0ErPwd53fS2MGPteOtPK6luRfIYNsD9/kZ3zhaSvVSUlRSSwkz4hIY8+va1ssbx+TN4NpB8FEJQSNsNq0+0j5QN44rbhsWCp76V+466eztr/kTBigRPRrJH80fABk8DOz75O5i7eLv3+9d6LXeytPJxze/2LoqvcjE39XB8EQRwjANSPdU21MCR2wv5Q6O7Y/SAcTAwI7IQdvE9G8NAiSrNZtAGj28MJAguBDj/zjyWunt5prrx/bIBL8QBhq6H6YeHRRCA+zweeSA51fu+vAS5D7YXMt0vmi1Z7GFt77AgdY99SUZuDejTJhWGlKNQgQnVwb8463KgLxCu37GNdpW9IkOICepOcpE5kT9N7EjNQ6r+vDoFt672h/i0O8uA5wT8B8uKEAqzCM+EJz3fuHr3HfjCOj54/LYcNHRxIy5v7OFuGzCydJm7yAV9zaRTYJYxle9Rxsq0wOv3by+8q/Ns2DG79+S/LcWxC0PPvBE4kAGNL0irA6p/IHs1uEU3hjkVPQ0BgUXMCLbKAgoMR0lC4/zJ90O2LzmZva++EbqJtzFyBq3iajgqK60P8mZ6agTBD/pWcZiuVyRStstRQj445XHdbkkuRbJlOB8+hUSgSgTPQhHXUYBO+4shxwcCp74sOqr4oPiE+5RAvUUjSJCK+EtXyo+G2EGLO/N3MvhWe/W+ifzr+OS0Rq6XqxMpr+v1cDW3kMGWC9WT+5eI18pUgI6fRh48XLMGrUisHe/vdsH+9EZazElRLtKKkciOAokgw8+/5z0vuvQ6DbrUvfhCXAdYCo5MPwvUiZGFg7+/OQpzwnOTOTW/QQKqv7v6/bOLbTNoiyjxLC9ynHthhiNQu1bEl6qTqc3JRrj+KjbtccfvmC+KM8/6pYF2RsIL4g/M0btQaIzsyGFC6n4LOsJ5MPj1ep/+bUNAiBuLFYxqi4BIhwN/fNd21TM2Nhi8fUGngXg9lTew7sJoxWaXaYHurfc6wZpMeRPzlxuWHFFGilJCSvpGs1Zu/e4TcXL3dv6jBVfKvg5lEHEQd43/SSgDlb5+Otf5+Do4u4J+HUH2xgCJlIsKSyDJmYWRP5Q5UfOAceC29/5nA+OCYn32tiutYqcbZbwpSnASeiPFFM+HFhYXTBPmTcwHCb+4ORa0QjJlsezzq3enPPsCCwe7DPxQfBErjw3KtIT0f/g8yLuk+sM7qb2NwW2FAofPyRcJBwhbxVzAS3pmNFDznzmdQN7EngFhOtFxdGheZB+lq+tks71+RIly0eNWVFat0kOMRIZZP9A5w/PhcTYww3QYugqBXUeojIoQ1NKUUiJOiMlDQ0f/b30W/L28TD06P7sDOkb3SOAKM4nWR8/EEL5O+F5y9PP4PC/D5cZUwM35I26fJk/jjCdYbin2SIDdythSRhWrFBiO/Ujsg/4/Brs7tvN0RDLms+M3+z5RhJmLIdDG1GBUHM+zSa7C5j7ZPKI8jjz8/MG+9EHVRb2HXYkTihIJb0YhgIb6ePRl9jQ91ETxhZP/U7dK7VnmWSTP6ZXw5DkWwwAL7ZGPU/gSAE3MSQSFJYCa/CB3ELPmMirzxvjnv13Ff0qvT7pSKNFoTRvIOwL9/t78Abr3eia7En4xwmrF5sdDyAsIekbBw4t9q3bO8WUzn/z8hK7F6f6KNmtsLWWc5IBpt3DDOGbBrQnQ0BUSHpDBDGnHx0Uowgh+xHmStjrzEvOAtsv7x4GlhteNDpF6EcJO1Em6BAdAUv4EfMe7U/rkfEQ/d0IDxLTG8Egex6OELz7MePXzRzTgvELDqwSRPlX16ywM5fKkcahq72Q3JEA4iE7PAZIhkVxNFMnZx4pEQn7bt9CzlXFGsue3D30Xw9sJqw5cEJtQBUy+hrlBsP87vlt9tHxj/C99N38jwe9EiUayhpaFNsHI/dP4XPNh8ti6sUKdxdZBGflzcG7oKWV259Ju5PYBPzDHRM4sEOUQWc13ScNILwVHQbK8UDfsdLoy4fWJuo1BQIcUTIbQpVHoT4fKzkYiQs1BFf+nvgc9Zr1O/vDBvcQnBpiHywdTxGsAE/tkNwi2NnuHAkPE3gF3us1zq6sHZ5coqi5S9bj+A4XCTBsPM08ojWgLJsnvh3kDZ333d7Y0KTOe9uc6l8BLhnEMFE+OEIdOrYoGBg0DRQJXgKf++328ffy/ZEJXBRVGqMc2BlkDiv/Ve5T4pLaNuiYBNkUGhCv9MfWXbKRngOguLcB1o/yKQ0iIyI0azgiN+AvJCliITkVHAUR7KPZedCe0xve1fFyC9shmTJ/PfU9MDQWJI4XIg0kBQ3/2vnX9hH1+vn3A/oPWhptHh8Z6QrC+RrqZ+IH6Fn/MBFcE8P9At7xuhyhX547sXbPdeljAroYHywRM6IzMTCILAUmixcxAzTo7dKsyAjNmNtz8yIO8CK1LwU27Tb4LhIh7hJFB8z/jvnt8YvrAu0g9yMGdhJyGBQYPhHHBuP5B+yc4OvdFfDnB9sSDgSJ5WHEG6hhoEiuTM076EsAfRI5INAn2SvULO4ozCT4HMINr/Sx22bLqMie1tTsCQVcGc8rnDdBOZwy/SY/G6ARygpSApL15Onw5B7r1PtlDfoYERsQFlsMPQAE9SbsJen68aYBmgd9/Nbj88llrlCjra7ryQjjj/iYC3wZNCItKEspOyfEJckhMxMG+gbg6czKxj/T5OoLBVYa+yonMwEziC6EKZwk5x73FAYFX/Wi6qznzuul+n0N0BjMGu0WshCBBwMAjPnE8qHzDgFCCfMAeucgzb+y6qacsFzJe+RT+YEJIhKKGGMgbiUrJgEmLybOGTMCDegG11nQ59Zu6Gf9nxIwILwnAip2LIouNi0vJ5Ma1wvf/FbwluoX7cT3XAcUEygXURYDE2MLngTGALP8pPjM/6IGgQCS6iHQ9bi/qUywZMR+32z1TAacD08SKxg5HgYl7ygrKSwc2QKG6hnbIdYB2XTofv69EkQdRx86ICAj+ChsLNgo2x3MDdf9SfCr6nXwWfzFB+UNeRBYEbAMygiVBaYCc/qk9C78sgJv+w/o+NIDv8+w4bdqyt3g5e+7/AYDbwquEzkdIyVIJ2slnBifC276V+tv35bbveMg89cGYxGpF1ccWSRfK9otTyxXIWwRgP8J9vvvAvDR9eX9wwYzC0URnxHRErUR2g0EBvv8ZfxG/F70eeax1HvE5bRitk/BidOX5DT1fv5tBeUMyBe3IPwlZSTqHMoOd/yB7PzibOG56Pb1BwGUCPcOLRb2HpAlsym0Jiweyg/cArz5nvIz8s/01PrE/UsBGwNqB7YLeAyoDLkGo/qJ8B7z8/Pr7HPdEM/fvgG3kL6W0U7nAfTX+lb/BQcbEr4fESj5J0wltxuwDUz/3PZC8YHwi/YH/zoHxgsuEScagSSyK1QryiXtGw4QHQfh/278RPx//R4AGgHYARYENQeIC1MPtA2gAK/2rPao8nPpRNs10lrDCbtlv7XNO+DD7f30IfjJ/4ILMBmAIgsqdSq1ID8PDQOM/+/7kPya/O7+fv7PAfII3xPHIW0opSjtIXYauxElDZAKJgcIBHoDFwO1AY4AVwJWCRUQ3xQYDfP6MfHO9mn4a+643wDVWsZ8vrDED9OL4v3sg/T/9dT89gi4FiIhSyYFK3sj0BV+CtsFr/8p/FL/0f4z/O38kAQdEZAcQCY8J4ojcx1JGA8UXhGKDm0M8ArwBY4Biv0DAxsJCw51DPwDbfa57sn0+fTO7LLcc8+fxDC/Q8ib0+HeWOY47W/y4fkGBpUTPR2GJOUmFyL9FGoLHAmjBRECbP2H+2H2e/Zj/3EKfRVAHYwfJhjQEEcP6hGkEhYRSA9WCysEefz5/KQEJw63D0cIuvuj74ru3fZb9gvrvteqyJC/QsGByxPW0eAh5Mroqe40+74LEBdIHSAfsh+2HAAYBxOuDMAHUAAq+9T3N/Xn9Yn73QSIDdET/xYcFykXKxazFBwVfhS0D5oKUAP0/Hj8CgH8AZv9EPrb9nfw4Oza9GLysubm05PJicJDwYLJ7tIb3FThk+lg7rX3fgbVFMkdkiBHImMdzBNTDeYO6g7yB9QAOvgq8hH0nv1UCaIQQBOpEH8OYw+eFdsa3hv4F8IQXgg+Ax4D1APsBWkFGv60+c30A+737RP1Mu9b4mzTDsnjwkDEx87f2PPf0ebY7+X1a/+WEDocWSEiI9YiMB1zGUAY/xPaDQIIDQNv+9r24fp4BFUMehBPEgcQKRImGakcmh1OHe8XBhGMDW4LYAnbCB0I+QSL/5D8GPmr8l3z/ve28Onf39Opz7vHf8nB0qTcL+GT6A/urvIBAYIRYx3jIIkjJCHkGNQUdhhgHPkVyQ38AXT5tfjVAVELAg0ADjgLfQktC6YSDxpIG4kVuw29C7YMsQyeDNEL0wl2BeH/vPuF9ubvTfWX9gfqCNrzzvnIMcW0zkzYyd1H387k6Oo89yIL3BtUHzofMyIVIR4exyBhIboYNA0VB2EA0vz+/mAEzQSFAxkH6gk5DQMS/haKF6ETjw5iDj8RgRDlClIHAwPwBLwFbwBP+fbwFuvP8PbyeOeu1dbJD8Tew6TPEdnZ3YPf+t8K6Or7uhJ6HvgeJx9/Hg0iyyKvI+wfpRZYDIgENP9Y/F7/uAIKA1ICEQP4BvELJBGLFYYU2QypB+AKwxCKD/IJDgUMA3kDgAJB/or1d+vS7BLzhe5I4D/MUMLJwMHIlNGK1pzZ69f23lvwNQkUGYUc9RyzHWki8SZSKZclrxxIEqkMXQlzA8UBJgInAa8ApAPzBRoIPQ2bD1QQhg+aC1gKTw/EEMgMAgnkBvYGywaEAqT8N/Si7EXyLffg7KTZFMqbxI/EQc/21m7Z69W41sPjmfinDnQYsBmXF+gawh+VJX4n/iKZGfwQVw3RCTkHxgW5BGIDsACRAxgHZwrVDSkP8hCdDS8Myg5FElsQNQxYCP8EmQQcA/z95vfo7zLvmPcJ9PTjZNGfzNrLttGC2gncYdk+2P7hZPMaCF4W8hdmFLoT9BtuJZooJSRGGn0QbQsWDGoLtAheBLQDuAPoBIEI1QtoEN0R8RH3DxYOExHcFIAU8Q73CA4GSQaoBrYCpfwF9Grua/fL+5TvO9uk0f7QVNI52r7dxdeH0UnZm+ox+6MKDRIQESsO7xQDHgAgjx59G7oSIAYbA1cGjAaDAwQCkQBG/oUCBQl6DuAPvA5rDusL8QtSEWkVKRI/CsUDdAGgA9wD7v0V9IvsmPbx/2byLt591JDW8tjI30TgnNm91tLcEuq1+KQJcxWFFDAPkxGkHMEivCNNHDIQnQSEAB0BlQEWAPD9Tvyx+jj8KASZC0AQJA3yCWoKPg6EFDIZtxbrDDsFjQUJB4cFnwBO+RHtYu5G+R7ybOAS1MPU0NQA2WLeK93z2XrcDOc08mYAtxDCFOYQ6g+LFmUZhBsuGxAX5gv7Avb/b//4/3cAtP5x+zr7CQEkB5EM7QynDDIMuQzSEZQXZhVBDnkIdQaKBvIFhwH7+C/um+6X+YDy8N5yzwjP5tJp2TDf4to217jarued998H9RMVE+kPExNlHdchdiCJGu8TnwqMBQ4E3AFE/vL6U/fN9nX6CwDvAtwGfQm1C/gNRRBJFIkZ4RsCGSETVA8ND1QOowkFAo73pfPT+1j2pePy0o3RVtNX1THb6dlI2OvarubY8sMAUA/OFC8TnBQtH2QkVCMTISkcZRJWCyoKkAeyAtX8hfb283P1Qvrk/UkC7wTdBGIFdAo5ExYZ6xrQGfgVoBNkFf8W5BIuCen9J/tjAmv6IeZ31E3RhNT914PbZ9aW0iDVbeMD8+ECKA76EHER+hXEIBcqhy3qKjohJxf0Dy4OKAxdBzz9yvG+7tPvPfGS9Nn6PP1z+o75cv6zCGMRkRQbE1oOMhAsF80aDRf1DtMDEAB9CicF/e+e3lraGNgM187cDtsJ1sDUlt927ff7fwplEBIPchJEHsMk/CWhKTwluht+FqMVOhHUDBsIkv2D9A7wjO+r7xfy+PQE9F7y9fLW+YQBGAdaCXIIqwjOCrUPhhGiDGsC+f5AByUBvO5h38fcjdwp3eTeW9ls1tDYruEi7AX6RAYFC4QMJg9+GOwgbSUfJgQgExtdGd0a+BUIEDEK9ANE//j5Pvb09NT2z/WF8ZLwhvMZ/MID7QRWAaX/EQQwCuIOTA1wCOEAefq1/mz6D+y03GraYtnN1nnYq9fC1nDXhOE47dj20f86BssJXwzPFugdph1oHmoeLR2EGnIahxVOEJMORAxUB98BtP62/EX7QvzA+w76WPco+YP9AwF3AhIBbQMVByYKqgl3CcwGlwSKCE4Ag+6D3xzfGeE73mHbatew1xrbHeW87sL4qgJiBhYHiAklFAIcnByuGbMVeRQ/FtQaLxhEFKEQLg5vDKgK8AdIB7cHJQdbBVgD9wEqBaYHGQdlBVoE6gUGBwkGtgNIBFoDHQNgBq3/GvLc5YTiauK54rXh5t3l3LjcZeOu7XL50gGgBXAI6Am7D6kU4RfBFk0Sag50DTAQkg/GDc8J5wbFB+AJ1giyB38HSgeLBfEFswatCWQL5wryCGQICwuiDaQOHwxeCj8I2QcoC9oEofOJ5MnhU+HS4BXfPth01T/YrN9951fyLvuh/l4BkQSbDnsWShqtGE0U3RDMEeYUcxFPDVMK7whDBtQCLP9y/k7/iwCsAMAAewIoBwIKPwn8Cd4N8hFwEyQSgA+iDJQLjw0YEC0JVfsU78XoyOUH5VXhCNnS0jfSHddg3vPoEvKn83n0x/mJBJ8MvxHwEBINYgzcDXsQiQ7NDNULfQujCZkIlQfvBH8CLQCU/ED7tPu0/s//Sv8f/Wf/ZwVGDCkPrg+kDs4MXg/AE4wRJAdl+xLzsu5w7XDqm+PF28vXlNi+29niKuv865Xrf/CI+toDcAnTCHEFpwcxDEkPYw0bCXcGpAZiCFUJUAh6BlIFxwSzAT7/6P48ATcBcP9G/Aj8UQDaBDEHEQqKDIEMoQ70E3UUXA7wBRsB0P6X+yf5+/O/7MbmAuZq5xrqje7V7vPtR/CP9xT/MQEvAf0C1gcsCwoNWwzrCBUHbgdLCMYHjwZFAzIBSP9a/hIAJQF5AGgAmAArAI8CnQZ6Bz4IUgoeCrIHXQY5DAoPaAcv/Qr5BPkY+Kf37/JQ7QXr0uu/7DnuQfOu92f45/e6+z4BIga1CJkHTgYFCQ8P/RBwDg8L+wmiC88MjQ3TC2sJkwYfA9P/Rf/uAU0DfQDU+9T4XvsWAfcELAZLBSUFUQbVCnQQew90CeAEswPOAJP+3P2V+or1+++56ynrHu3/7vbuBO7H7x/02PZN+OD6iv7lAgwH8wceBnkGvggkDMENyg5rDoENJw34DD0N1w0ADXYK3AboA3MD8wNGAmoALgCMABACHgOvA+UGuAiTBk8FgwW6BXwFPQQsAQf+W/uq+XL5Afg+9iD0UvNH9f33x/bN9Mz0XPUN9rr38fZT8+DyqfTt9RX35vg1+jL8U/8AAmcEhgYXCMsHqQXnBuUIOQjLBV4FGAQOBCYGeAa6BTUGiAgrCFgGNwWoBeoFTQX7A2D/TPxz/Cv9l/vK+Aj3YvWt9sT46/nY+bn6Bvu++Qj67/tS+wP5BPf69fXzD/Rs9Sb0GPMh9cP4J/sW/On81f1LAOoBsQJeAQwAjwAd/6f9bv2b/sD+rQBYAgICqQFRAtMEEQf2CJ8JCAkUBpwDwgK3AAr/W/6m/R38Zvs//Nf8ev78/7IB5QK0A5wDXAL8AAQBwAGEAKL93/tO+8H7mvxd/I373vss/J78if2s/qj+5/zl/XEB5wQpBVQFQwVeBRAIvgqDCrsIEghwB3gFpwVlB6AHqgWGAgr/YfyW/S3+Xf0p/aj9P/0y/aP+xAGVBfkHWwk0CpwJXwrkCmcJUAYyBdYDewNpA4sBnADZ/lD9Hv2g/UP9iv0S/qn7evqi+nL69vtx/YD+U/79/8QBWgL6AlEEOQb6BhoImggcB6QFJQW8BGECSAFZ//j6jvcK+Db42/ax9tb1HPaF+T7+SgG/Ak8E1wXBBvcHWQrOC28Maw5qDUUJPQapBMkCaQAw/vL7Cvqa93n1p/Vz91z6Kvs3+ob6Kf24ADwCngPCBcYHIgj7ByoHFgVWBEYELQSgAi0A/f7o/SP8Cfu2+ir5avn2+Zr5N/rn+v34lvdP+XD7Lf9dAQoBdwCjAUUD2gR7BUoExQJ4Aa4AeQGDAEz+5Pzu+hX5g/n1+c73bvZH9vz2Q/pC+yD5hvjj+dj7Uv5jANj/2f+I/9j+9v/KAuIEJgWlAub+D/0w/NH7J/yf+vX3mvZj9RrzqvO+9Vv37vnu+mH79v3VATEDHAOeA4cD7gMvBKYEOwUsBCcCtv/k/f/8wv1D/X36YPht97z31vrH/br8nPtB/Sr+3f32/kP//P7q/uj+DQCrAQAD1wMHA64BtAMfBu4EAAP6AJT+rv6Y/87+m/50/gz/swCuAtQDewX4BlQGvwSTA70EGwdYBxwFHQIPAaQBgAJcAkoB0gGTAqQCOwIKAZH/3gAUA/4BRf+G/T38Mvsx+/L7dP73/3H/i/59/hEBKAXeBssFLAUTBYIFcga3BSoEHAQSA48BlQE4ArgCKgMxA24C4AI1BIUFPQetB7sH+AbYBtQGcAZ1BaIDvwFlAAAAbf/1/pL+Qf6f/u7+Uf8t/4n/TgDo/0r+tf2C/kT9ffwf/AH7dPob+/X75Pys/qD/qwCrAEUAdwHfAuMDaAU8BY8DMQW9B/EHZAYJBcwDeASOBU0FCgWdBJkDDwOkAo0B0QEpA2oDjgKaAOX+xv6Z/9n/zv/u/9r/Tv+n/d/7O/yH/lv+gPvw+NL3o/bx9Uz1LvVZ9fT1+/YC+dr6yf1pAHkB1QE0A8YErQb6B9MH4AbbBXoFRAUlBDUDTQOJAkACBgKKAHn/qf+b/yv/C//x/uv+/f3g/J79Fv98/9T+RP7e/ev+zwCgAdD/P/5L/Sn9Cv4I/sz8mfvP+hj5XPgA+Az3rPZL9sP14fW49oX3B/hz+J/5aPwc/pH+NP9EAAABOQHWAcQCHQTlA7UCGwHf/1L/vf9jAPn/Mv8W/vn84Pwi/kL+kv3s/OP8K/6l/3P/Kv5b/qb/zQAXAS4AZf8T/y3/+P4H/1f/4P9h/8r9Cv2M/Bj86/zK/Qv9Hf0T/vL+gQCgAawCIQT1BGQFiAZRB1QHcwfHBvMFSwWeBHUDoQKUAakAOwDH/xn//P2q/HD8cf2B/ob+if6I/rL+zv/RAPcAlABbAJ//V/+Z/zr/1v5f/iX/OQCoAB8AbgAfAZ0B7wFUAqEDawTlA9ECGAIyAecABgLhAqECswJHAyQEFAUHBpEGtQbmBncHQQcUBtAFTwXbA4ICxAGLANP/ef/O/gL+6/0P/iX+0f3U/CD9Mv5B/2v/t/6X/YP91v3//QL+2f0c/mz+M/7L/bL9IP7y/pL/C//W/kr/xAAoAs4CNgPWA8AEQgUZBfwExgQsBCYEtQTVBIUEJATUA9kDLQQSBfoEbQQSBMkDRwMpA0sDVAPYAzQESATWAw4D1AIjAwADzgJbAvAAEP+6/ff8LP0E/Sj8a/tH+4/7jvxb/e38Mv32/Tb+H/47/pb+of5H/qj9Z/2F/Sj+uv7m/sH+sv43/vH9yf4l//39q/yo+zT7S/sn+9n6M/o3+Wb5zPoE/BX90P1K/sL+8v9WAWACUwPFA5IDBQPtAiMD3AIFAtkAHAAA/zv+Gv5P/bD8Ivxh/On8sPzd+277c/sB/Pn8Pf1I/Xz9Yf2k/Rv+8P6b/wb/bf0o/N77mfsi+wD7V/rQ+bH5Dfpi+iD7qfsm/D/9Ov6c/tr+2f7s/r7+qP3S/Hz8OfxQ/DT8Nfw2/M38v/1C/nH+9v5pAPEBtQK2AmECSQLHAsADlQT6BPkETATSA+8D1gQNBn4GtAWxBOwDmQN8A2IDKAPRAj8CwQHEAc4BtgEGApsCmwJJAsQBXwHOAc0B8ABMAGj/df5u/iv+R/66/h3/AP+q/pL+7v7Z/8cAOwHgACkAJgB4AMoAqAD0/y7/dP4X/qD9h/3p/ev9Yv3//FT9zf3L/YL9kf1T/h7/QQBbAfkBcwJoA7AEgAUiBqkG2gYUB10HQAfFBn0GYgaNBtEGsAavBvcGQwcjB4wG7QWLBQYGgAZUBggGWgVnBFYEawRGBCUEagMhAkEBoAH+Ae4AGf+f/V38jft2++f7Bfzu+8P72Psp/GL83fwS/rn/rgC9AE4ASQDLAIsBsQH6AOj/Df89/pf9N/3o/K78G/x/+2v7Qvtb+377c/t3+3z7zvuG/H39V/7W/tv+7f4+/5z/ZgCvAK0ATwCZADIBgQHBAaYBJAHWACoBdwGFARwBhgDPAJYBPQKtApUC+wFYAfMAfwAUAA8Ayv+b/jT9U/wk/Dz8oPzQ/KH8KfwA/AX8M/yM/Bf8QPvn+u76hPvL+3P70PqM+of60PoQ+xD7Uvuc++L7OPxd/BL84/vk+xv81PsP+y36bfkC+RX5Bvrb+hf7qvos+mb6rPu9/Cb9UP01/aH9Xf6u/sH+FQCWAeYCsQO4A0YEMAVTBpIGMwYlBksGbQaLBo8GRwasBTkFxQTBBLEEhwRMBBoEawQOBWQFKAV1BA0E/gMqBNcD9wLiAVsBYQEuAS4ASf+u/rP+1/6C/iL+kP1V/Q/9VvzJ+5b7JPyl/MD8x/wB/T39aP2k/TP9h/w//D382ftS+xL71vpi+uj5/vlk+sb6G/sy+2X7VvyY/RX/BwC3AJsBewIsA4ED5wNwBAcFwgVQBnsG5wZkB9UHlwjgCBgJVQlvCaoJoglUCZsIDwjGB60HmQd4B1wHWwdqBxcHUQaWBeAEkQRTBBwEsANYA7sC7wGVAVoBIwGiABIAqP8B/5r+If66/U791Pxm/OH7CPsd+qH5n/le+fL4JfiJ99H3Kvhh+I74c/ge+Pf3Kvhf+GX4e/iE+DD5W/qe+3r8lv1p/jv/AQDDAKoBtQKfA3wEKwWiBWQGFQf4B3QI7AgxCQcJJQmhCUEK1gqwC2sMcQyjC+AKbQq+CVAJAwlICDMH8QWqBCIEoQMQA5wCCQKFAb8A4f/4/gP+9vzR+736mPmw+Lr3xvYM9lD1oPQE9G3zEPO08uDxY/HF8GHwqPAA8QfxMfFr8eDxjPJg80r08PRQ9ST2afdf+LX4Svlr+v/72f2J/20A4gCUAY4ClAN3BIIFcwaXB7AIgwk+CrcKoQtkDOUMSA0iDRENSQ0RDd4M0AyJDCwMeguoCs8JSwl/CJEHqgbvBXEFSAQLA7MB0gCTALUAfACW/97+Xv6u/eH8LvxJ+0f6DPlC+HX3vvZj9jr21/Ul9br0lfQW9Wf1RvUP9d70APVN9cT1jvaO9zL4oPil+Yv6bvve+9r7I/y7/G79x/7DAKMCRgRABZwFHwbgBn4HOQilCAUJTAmWCfsJVgqFCrAKIAtzC6YLSAuOCjwJCwhEB0wHuwffBzQHPQaMBW4FjgWLBVsF8gT5A48C/QDe/1H/pP+NABsBXgG0ALn/0P4o/rL9J/2B/LT7ivpy+f74kPiA+JD4l/ij+PD4Efna+HD4QvgU+Or37Pdw+PX4e/mW+kr7gfuS+xT8lPz4/C79tvxz/BX91v4HASgD2QSIBXsFKQUUBVoFqQXdBQAGZgb2BksHRAdmBxsIKgkZChUKAQl9B1AGIgbzBTEGsQYaB/sGawbyBfoFSQZqBhgGZwVpBFgDdAL7AQYCjwLbAgQDvQLWAeIArP+l/un9n/xa+1L6K/mQ+EH4FvhQ+KP4gPgB+MH3fvcf94j2g/XS9Oj0DfXa9MD0afT49JH2ffjX+a/6n/ps+kj6Vvo5+0T8aP2t/mn/lv/t/4IAXQHxAUwCyQKgApwCKANDBEoF9gWpBggHhgciCFgILAixBxQHuwYIB+4HJAiqB7QGfQWpBDME5QPTA40DPQKYACP/cf7g/tz/gQCLADAAbP8e/hL9dfwP/Fn7Kfqk+E33V/ZE9o72UfdH+Pf4LPnW+CX4fvcV9yz2T/VD9LjyHPJw8tLz2vVN+E/6p/ta/E/8M/z/+2n8+Pw7/VH9sP0//sb+y/7M/3IBmgLdAvYCJwPCA6sEtQWFBmEHYAhVCe8JPQoTCqEJOwnXCJcIJwhBCK8IwwixBycGRgQjAwgDmgPPAxQDPwG3/6b+JP6m/o//ZADCABkAnv+X/6X/QP+p/iX+kf3//L38Tvwn/F38nPyg/CD8Y/se+/D6Hvs/+5v6zvmG+I734/cW+kr8Gv7d/wgBpQF2AbMA9P+7/z8AqQDB/+j+6P4d/5D/IwBZAZUCUAOzAyMEVQRYBOEE0QWOB/YIrgnBCT4KEguCCy8L5gpACl8JPQkeCgoLqAoqCRgHCAUpBJcEZwX4BbQFTQSuAo8BVgFrAkkDigMCA6MBAAEPAQ0BKQHfAH4AuQDbAAcAgP0d+5f5Svnd+EX4XPe29rL2Evi8+R767fgq9072LPcG+Q775/wW/rz9qvy7+5D7w/xp/gX/q/3U+rb3wfah96H5NPww/tf+rv6e/jv/4P9HAKIAHgGcAb0BwAF8AbcBpwJZA0YCdgAl/1b+6/06/qD+j/7//Q/9e/0O/4MBlwPyAxEDPwHG/wT/WP/6/4gAxP+g/lH9XPyK++T6A/vY/Kf/mAGEAXP/tvxn+/b7k/22/WH8ffp/+Xz54vrf/Az+rP6i/kH+svzK+9v7+vvm+wX8Q/yU+9L6t/uM/RL/Tv5s/F77bvtV/Af9nf2u/lgAKAKVA9kEvQXwBXAEUQJoAAIAuQAEAmQDGgPrABP+ef0v/8QB2gPEBAMF3gM2AY/+tP6jAQYGHglDCWwHzwMiAeD/MgHiAtMCOwD1/Xr8yvrp+U36OPzG/oAADwHBAPL/xf6r/kgAPQPzBLIDUAB4/A/70vs+/lAAswKZBL8EBwMqAkgCIwInAasAMQFbAjYDywMhBPwECgaxB0MI9QeFBksEugHB/xkApALiBQMJfgpICvQHDwVrApoBZwIeBHsETAIY/jf66/jY+ur+hwOZBkEHiAXaAaP+pP7BAYMFxgciB/8D4/9a/fj9fAEzBWQHzAZKBcEDdQGT/l79VP4XARYDkwIU/7f7Bfsx/hcCDQW8Bi8HvAZXBK8AQf6O/q4AYAIaAyoDHQM+BCwGoAfRB0YH3ASzAfz+EP4E/kf+xv4XAWEDKwSQAwoDTgLUAe0BlwIDBPEE3gTDAuD/EP4o/qj+lf8ZAF3/3fuN9gjyefCj8eL0mviL++f8Vfy4+uL5yPoM/UP+gPzD9xvz4vBV88v36vor/Pn7bPuN+4z8ufxP/Vn9wvtU+Hb1pvRH9jz53Px+ATIE1wXLBY4EHgMNAz0CZAGmARgCrQIvAsUAAgHnAz8HgQrJDGUN4wrjBY8ApPwn+hD5N/ri+878rv4YAfADowYhCXEJggf7A7kAcP2F+dT2tfbM+Cz88P/WAUUA6fok9jrzPPKR8ZTx/vG48XrxwvE187H2FPuG/pv/dv4k+wj2HfGR8Ez1mfzl/5z+4/o8+Xb5J/zV/yUCJAGj/ab6pfiV+BP7YwDEB1ANgg9rD4wOMg5PD8MPcg/eDggN2QrnCLQI8Qg+CugK3A2PEAQRig4QC8oGLQNRABv+M/5y//z/wv5r/Q3+zAEuBx0Mog/ZD0EK5gCS9uXv4e2I71XyMfbM+WD9Ev/b/xv+NfrX9R70YPNF8e7thuw47rry/vid/Un/1P92AGkAJgA3/2n9zPr/9yv3vva99mT3TvwVAlIHAQoZDGUMkwyKDSwOaw7JDRYPBhIoFUMWCxWXEj8QjRHWFJ0WKBSAD3kLlgg+BsgE4gXoB90K/QzvDUALbgV0/6j8Mf1DAFcFZQgfB90B0vwR+a75E/zX/i0Apv7O+XzzN+276pDrB+6N8Ez0wPet+8AAmAQjBYoBo/mu8FPruuox72P0+va693v2BPRI8j3ycfNT9W32FPV/8X7te+tF7qn1u/2GAr0COQGk/6AA7QWgC+IQ2ROPFCkR6AzLCesJVQy8DwkSbBF4DfIILQjQCjUPXxGwD0MKcQUEApQAJgGRA90GdAosDOUJKQT+/8L/PgPaBhAILQTE/GH18vIp9HD2Tvg2+Lb24vR38xXwsu808WL04PRd9j72t/Vx8vPuZOo25pnkAejT7q/2Avyn+lPyjevZ6UztsPF+9Yr2VPd79+L2yvWa96j9NwTwBYADDwCU+wr5WvuTAT0JZhPxG8sfIB4KGSkUrxKDFR8ZZBp9FdANXgh6CFkLQA2CDPYJqgdYBOcBAwEKApADBAUlBT0DoQINBpcLsA7NDf0IXAKW/LX37fG+7AHplOmB7dTxbfUC+r78CwDbA2AEBv6T9SXtu+cI5wPrsvDb9jT5Hvu5+zj8CftK+/37Ofu4+KLx4+oy5nHmGute8/j8oQQhCvALUQtWCeoHzgWJAZr9OPpn+Vf9DAh3FVggGyUJJUYhfRrhFLIQtA69Dc8PtxEUFLQVOhaeFfIS+Q98DM0JQwiCCf8LVw58DaMHYAGc/qj/0ASfCkQMbwZ2/Sz3SvS38IbruujG6NfqOO+c9cX8lwG+AugB1QDN/t74uO+Y5MzdQdx74N3owfUDAL8F+wLU+zn0e+5y6RbnJucE6DPr5fHE+j0DSgfJCDQK/AqWCQkG+QAK/LL4wvV69Yf70QbCEHIW5Bg5Gp4aThe2EKUK9wRL/6r8XQB/CeYWtyJ1JxIl5hx0E7sJBwF3+Hz1K/h9/A4AHwOZBfsHWAmgB5UBjPyP9bPs++Iw3nvfr+E+4Wrinupv9lcDfgyxD6INMgb++VXsHOKT3anfP+Xk7PP1N/6EBGIIYQmVBWH+kPQc7fHnjuEE2pnVuNwv7IgBaRQPIbIkeCKQHk4Z5BBfBrX9P/gH9ij6cAKmCiYQIBPuFDcZoh44HQkTZAQM+Ojx4PFh9Gj6BQNHDUkVIBz2H38goxwfEycIw/xz88fr2eo18hv+igXbBLQAdv+2/Tr6n/Ry7k3qp+rK7Pzu8/Fr9En3Avpw+/r8Y/5N/iP+8vzV+WL2G/Tj8DHx6/Ui+yb9Ov4P/0IAdABjAK391Ppr+XL4Xfcm+D78zf4RAcgEQwx0E0AYNBoJGVYThwx3CGYHzQqYEbgUZBG2DTwLfAjsBkwJbA2zD+ENkwk3BFsBEwMnCC0LHAwcCy0H3gHb/bb94QN7EBMbKRvkEcEEwvvV90v5Cvw9/hz8zfbg7D/j4N/P48ztrPxcCqkQ8w0aBdz6Q/QA8IvrmuM13zjlffMgAscKHA19CgUGVv2x9AHtYumN6invOvOH9wz9QwbcEbIbkB8eHdIUeQpMBckD1vzQ7XvkfOjC96kL5R0qKhoxYjAOKbcc1BJQDKYH9f7a+Jf2YfMr8PXyJf19DH8adB5zGXsNJf387tTl7+Mn6v70rPyqAVYF2wpZEtEZwRlMD7b8Juq43dzXmdcg3bvjCelm7Irx+fjAA1INshHgDIX9jund2IDRZdUz4cPuevn1/u/9qPo/+7EAfAYZBSb9XPJD6mrq9fbwByIVWRxpHpkbIBYfEKMKZQlNCOAF6wFp+knw0+iu7Yf/1xMAIpMseDbsOLgyjSFdB4vv0uTp54fzeP2fAHz+rfyy+yz8jfwu/24FZAwWDh8HjfQj4rbam+CL7Vv8YQfcDCsKzgIf+T3zW/Dr7gztIewP7JrnP+Ya7Pf34gLvCpwNjwjj/rz09/D/77Xx5/NY9pX3Efhz9yrxp+7c8sX65ADxBiELLw7rEfgSqREXEzQZzB3+GmwT5wsGBMP96/2xAFkB5AOoB9YGGwO/AOYCpQftDdIWYR0qHSkUqQQc8Xbmz+t6/1wWIyYIJz4cpwxe/l/0R+ws5vTjQek49qUEAQ2pC3IJXgndCLIBIfZC63/nrOpx7gzx3PbE/i4FhAdbB9IEZgM4AdP/I/x89z/ydutC5eji1+aX7if4zAGMCdIPsxBqC2ECw/gD8jvuhe5D9K//Eg7mHbsnjSuDLH0sjifVH5wYOREsBcfzcOai5Czut/2YDqIcSyV3IgMVLwjpAi4A7fhx6mfepN5F6kH5bAmxF5EjWioGJpwWHAPh8BTlbeIi4pLhNuHi4CjksO4p/I8JBha8G90WbAfV9rLoLN7a1njZE+go+q4JqhPFGYsZOhHFAPPx3um85c/eGtb00ivc5ei28eX5MAkBGyYoLydbHv4RIwX99vvsRuf45zLtq/YjBwUbzCmtLqMtFSelI84efhNwBHD6S/mK/KH8Afj7+DwEWRORHVweLRn5EUgFFfSN5uTdl9jh2ZLi3fGpBQQW9x0FHokXdg2N/S3pJtne1U3d6Ool/F8EaAEM+DTwkuxZ8iz9RAfsCh0HGPkN5gzbFOAI8AT+0AYQCB4DNfrX8pTwtfJR9F3xYe206ifs0/JZ+0IITxWnH48iix4oFVoLWgCu9uz0ePnEAeEHCgu7DGIQLxF1D1gPPBc3IswnACPbGqkS9ApZBj4EKgMpA+ADHQJXAE4A9v6X+tH2sfXm9YP3FPqF/B37HvZP8QLzQft5BDMKJgkSALL14O3250nor/Dg/N8IuguMBMn6x/Va92L60Pbx8E3wuPUh/lIFvAnDDD4KT/7U8rrtQu478LD0LvfF+ZD8gfzp/Lf99/30AToM7xSPGqQecB1oGSkUlQ1oBR//FP1v/5kDaQcvD0AVsRZKFJwTXxHkEX4VjhbbE+QPqwtCCcgIywX9BUMLzBEfEf4E1PYw8aXwee9I7u/scvDk9k/5qvon/jv+3fff71jsK/A49U316PX/+Cz6l/dz86Lu5vB59ub6uv9QBSEEvP+c+ZT0h/J99Lz50gOTCsUJ6gFi+LjvKuiD4RbjhO6z+hoAfQHyA+EFhQVxA+cDmge2CUYM5w4DEUEWdxnsEmINpwpMBZoBjQHOAJ8B2AALAGcD7QNo/5YA2gdkElYYzBGTCkEIgAUrBA4JqA3gDWoL4QMB/EH5iPcg9pPzWe9y6vrlc+Tl66fzufZG+gT7sPSi673jnOCD5oTwMPr1AykJEQUU9//pY+cK8dT6tf0jAKcEjQS0Anz+SPn5+kYB2QOzBgIHP/5+9RPxX/Jo9LL0+/VU/XMGWgu6C1gM9Q41EWEPtAmABb8D5wIcBZgKpg16D4YPRA09CosF//0t+Uj3aPcs+B/8QgcWEMsQ+w3IDogRgxJ3EXISqxSoEqwK4P7k9+T3xPgn+aX7KwJDBNP+AveA76rpKuqB6jDnQ+bS5rPpuO1i7vTvRPb++9gBOQcUBWoBRfyT83Hsuuxf8rT72gk3HGoo2SVHF+cG1/dE8kz1DPka+Pr47Pk7+m/9JwMICMIMWQ3BCqoJcAtmEIoUlRKcD3wOlAl9BccI5Q5UEh4QywdoAmQDSQZwBawB4v44/HH48/jGAcAJVAwhDWsNDg9SESgQpw+RD3AO3AsHBv79gfma9wb3lfnT/LT+Rf9g/eL5QfeJ9CTz6e//6ErfCNmz00TXWeJO7mj4BQXFC9wMFA0HC6YCqPax6SfhlORr83YGAhb8It4rFyniGisK+Py59Hjxyu9i8jX4+vkA+5X9mQNsCREKRgW3A20HzwgECScMjQu5CFcFEgJCAIr+yvs5/H7/jgQJCVMK3AlJCQ0GAgPgAqj/h/rK9p72f/vgAHsEUQhGDIwLagqNCtwMGgwBB4YAkPxm+8L4QvPS8+H8LQZ1BWP8zu995xLj/uH24Zjhz+MW5sjnleqR8rb3Mv2EBvUNYAxVApnza+pw7Qj0zvc+/QYEdg20FncbwBiBFNwLtAHp+LXw2uqe7L/xIvjbANwEeASqBjMLUg2bDDMLCgjrAQ76APYz9gj2aPWq9SX81wWoDmMT/hWRF2AVdwmq/mH8Ev+bAd4CfQA5/gf9DP84A5IIuA3XDbEKqQi4CHsG9gIyAisHgQXS/lT5mPaB+OL/sgI+AZcAvPii7obrFucH5U3mSugV73L2cvOd7iLv/POK/PoCZANeBCwEXP1J93H2Efe4+kgBxwfBESEbYBshGK4UWA4kB1b94vHx60bvYfWw/fsGWAsQDt0QOgxGBHUA9f2y+ST2JvMP8qz06PZL/j0MxxlXIIkdrxSqDSoJsALy+kT8TgIgCd4PfRT2EhcQLwvAAgkARQLu/zH7NP3UBXULKwoCBacD6AT2B9oGpgTdB4QMOgqEBdwBPPzX9GPso+iU56roju3+8A3zV/Xj8avpcee466/z8/sLAEcCqAI5/2v6tfgj+sP+fgP6A/MHURHVFBsRigk1AoX87/fT77rrSvMK/jQFLAm2CH4HYQYV/8T4JvvL/L75GPhK+Oj5BPuo+oMAMQueEmUUkhK2DggIXQAF+6z/BA+hGJ0YYBijGSwYNBHoBXz92Plq9Ljrbeef7BX3xACZB2YNhxSwFaoOHwjCCdkLeQn1A7v/JP0F+X3vb+bj5anqnux17MTto+0U6grjFN+148DpEfAX+PT9Kf+Q/zn95vsk/pT+p/3D/oP/VwHmAtsDYAZWBvoB/v3r+Vb30/f2/XkEfgs2DwEO4AjLAR79S/uu+an2SfNo8hDzSvaa+eL94AR5ChUMNQwLC0gIPwOc/vgAGQvmFzwh2yOaJFYlFSLrFV0G5PZ46a7f/dv+3mbn2fT4BGASUhryG/QW6w1aCN0HAQk/CXEJIgetAcj7zPPL7mzv+vIi9MvzBfPH80btE+R8403ncOpi7/v1U/u9AFQFCwhTCm4NIAsfAvP6Vvrx+7L9ywKMCNkJ+gmGBEz9tvzHAqYIpg1PEqgUJRLjChcCSf4f/I77efwo+Vb2Hvmd/WUDFgirCVgHWQaWBbgC1v97AOcDdAo9Ewsd4ydvLpwq2COSGb0KPvx47hHnbemI7O3uE/Wl/E8EzQq3DEANgA+9DtwKGwasBXEK7Av8B/sAk/i28gXxo+/N7r3u0ezG7DjrK+dL5ZjlQ+la8Az0c/X7+BP+hAL6AyECcwFMAcX/OPyn+cn4s/y3A9wF8wNiAan92Pn++av8BgI6CLINrRAvEeAN5AgoBQX/rvmV9I/vSvAm9Pj4t/9hBDIGYASbAvb/GPr6+PT8EQQ0DRAUUBkxHskfYBtzFO0LiAVmAH75gfQX9mn3PPbx80vz1/VD/DgEBwfsB7QKIAq0Bc4DXwaHCEIHvf7i84PuXOwR6xrqielX69nrueZi4uvkWOfe6tTx3fMz8+n18fQJ9Pn2/vrF/R8ABf+p/WP7Ovr/APgG4QbmBGYCEwC1ADUAv//CA90KSw5mDvcLKwrkBuoB/fyu+ef3WPVZ9G74V/wfADYDdQM6BN0DOwEY/+X9gQF7CscSVxYIGGMY+Bd/FRgRfgqsB/oF3ABX/J76nfwq/kL8GPp7+az8VgEdAyEEhQcKC9UJMgXpBMMGCwXG/wf6Nfc3+MH2yO9z6b3pG+2g7OjqE+2Z7/XwsfEm8UTze/Zt9wr4lPjC+bT6q/kl+xX/zv92AgcJ2gx/DngMVAZwBCEHvgiaCbANLxFTEeAPXw3nDCYN3wmsBbEEagMeAnj/8PwN/yYEhQZOB6oG9ATTBZQJzQqFDHgR5RaLGl0arRUUEzURNQzlBvkC1wF/BPEFrAM7A8kCEfxj98P0+PS3+rz+7//vAbIEIwQXAbAA0QFNBFMDjfwA+Pj16vGe7V/pr+m07NXuze+o7qXrmeo07ibzV/em+oL7BvdU9OnyNvH08h34/vxnAjcHQAmMB9gHgQbiAwAFEwTeBmULrQqCCyYMywkVCJcIwAmwCEAH6gS2A3AGdwXBAJj/AgJ6BU4IuAUPBbgJSA3oDhUQdRGIE0IUWxE2EHcOYgieBK8ChAGEBCwGqQSpAwYBC/xy+nH5afgp+Er61fqE+qL8Dvwr+sn7ivu0+nv6xPUw8Ezt6uyO65fqTuqZ6VHpreex5l7pZ+ln7eXwRvG59gn3e/h2+ZP00/SS93v4p/qY/Hn+8f9KAmsEFAXHBWMFqwbbA0AHXgiMBsMJtwmgDKgNSgm+Cn0LFAjRBpoI0Qo9CcMEtQAoAB8DEgRlBKIFeweKCQcLsQmaCz8LGAgnB98JHAoXBkIEOgLBA/AG0QQKBLAEhQJzAtH/bPzS+l/9c/uI+k77yvgJ9zb1T/Xg+tD6ovj881Xuyu6w7DXsCe4G6nHqOeow6MTq4+0Y7s3yaPQK9iH7Fvqm+eT8cv2Z+4D6dPz0/aT/tABdA7IIqQgLDIoJhwcJDJ8K6wmJDH0PGRRYFKsTbhHtEIASwQ7nEM0RFhLJErIMLwuYC/0KwgrTCZsMvgy4DN0NiQxNDYAOMAwWClQIqghJCHUIEAV3Aq//y/4w/9H81fto+kP6AfgN96X59vdy9hv37vOw8lz0HPJz9Lf2vfTO9Wjzz+1S71ftQuwd8Ozu7etr7Ejs1u4J8AfyKvPK9zL6wflK+Tv5t/x2/Tj8JwHc/scAEQU0AycIMwrXChcOiAuXDbkO9wwSDDAMCQ9GEMUQsQ9mDqoNTwxKC5UKRQvgDqAN4whkBwIHYgSbBHwCOgSdB1kJJwlxCYEGtAQSA8ADfQLSAiMCVQHcAZj9bfpD+cf32/fp9X707vW/+I34CvbO87zxf/NO8/3vjvF38nrz/vRx8570Kfdc9ULySe/17ljw/O/I8LXw6O/E8hb0zvXD9+732/pb/CX5dvdN+Ab6MvzQ/nP8DP1t/Xr8Wf+k//0BpAbYApsAsAA6AIIBawQkCCsNHg55CTUJgAk6BjgInwqbCk4KkAmhB58FvwPQA78EGgYVBaUGeQpkBzQGNgdXBVcKaAvWCbgIzgXmBpwG0ASKA8sCyAFI/7r/5v7K/ZQA7f3l+0j87vpB/A36Y/i3+Br3+/p/+6n5df1b96v0cPcC8rz0ePhu9XL5h/g/84r4qvzB/cz+Of1T/q//GQCU/5/+GgC1AukBof9y/5wCsAPQBu4FkgMiBrsERgbdBg0F3gmhDYINwBCHEacQFhFiDskNrw1aCIoKzgoCB5sIKAfzBf8GZQgYBj4ESgj+BCAEDQR0AewH+gWUBYgNZwnEB68MCgkoCF8JGQS6AD8Aff2QAIb+Fv1PAWf+xv2w/Uv7Rvoi+Pz3eve4+YL7WfqA9wT0evZt+E/5Xvry9gX3mfYl9KrzhvVO+Jv5+fmD+Or6f/mV+Qz9zPdz+G7+gvpo+Ez7ofwn/ZT7HP/1AVH/2wBHAlwBdALyBncHQQlUDIUMtwvUCa4IEgv4B8EE7wj/BjcFBwqBBv4E3gbABBQGCQSABZMHJQMvBs4GXAWGBoIIoQfqCEEJqQa6BjkF+wI2AXj8mPxI/qL7ZPm0/T/72/f5+271yPVV+Rv1kPe085nw0Pbk8tjyk/NU8Dbyx/HG8ETwge2Q7oDxlvCa8Zn2O/iu+CH4OPa69hP54Pfw+Vz80Pf/+rb5o/SU/Dj7cPqaAF78WP8NAfb8w/7uAnYGHgf+BTELCw0qB0wG/gviCEIIgwrFBxIHpAfACJMHMwS0Cd4IKQXqBr4IMgYbBGcFHAZtBQoDrAFEBpkDtQGSAxEA3P4xAP76g/nA/In5Pvq6+pb2Qvio+nL5uvnO+6X66/rY9zn3mPvB9z/3RP309zD1WPh69hL2vvRC9jz3avXT+gn7qvbH/oP/9/19/+L70gO4BjsAQgWBBiYBawR9AZ3/6ANmBNEA0ALGBOkCzgMdCMcEGgdUCbgGjw7sCysHExApC6EOeRLgBxsNQhFMCyoM5wxMCaAM7gr8BDkJRAhQBtEKWwbRBpELwgjgBEUIrgXFA9sDogADAHH/Fv+WABb8eP3t/MP4Hv2j+j37AP+C96X9lf2O+Dn9Sftq+LH8tfdF9273fvY59AX3LPdP9En1ePMR+Ff+G/oN/W3/Dv6NAQMAagBdAs8BMQVQANMA9QKhALv/vgCcAAYEcQEtAvsCswJABJ4CUwRxB9EFowruCvYI2AqxDZ4K2guOCUQIwgmSCmYIWgj0CJAKtQXPB0wG1ALxBXQHCADtA+QHggMFA2kD0wFeBr0AegARAZD8hf2/AQj7cfmF/Gv4EPbo9rn0Xfkl9mDyZvdM8mPwn/SR8Svvl/B49DP0VvI29crzy/Oy+j32OfMa+GL6v/k/9iH30fkL+Br3cfan9eH4O/lN+Hz3LPmc+oP34vmy/WX8Zf+VARABvgQeBSkJtgzHBxkIcgxuCBUJUgsuCk0G0gsdDNECGwY8DYoG6gjFCtUFzwTTCVYGxARQBwEKRwkyBNQESwgKBYoA5QJcAYz8h/q8/W342/ch/Bv4nfM89cr3z/Se70L5EfqF87j5k/zk9y/4s/paAi372PpWAfj6W/ut/jv4U/wx/Kj5yvgS+DD5OPsu+UP2Jfo099D29/qo9kv7GwApALoAPAOVB5AJ3gjgCH8O8wstCqgSoRC4DMcSfxRjEHcOnxFXEPEMbw5jDqwI0AciDtQG3AQ6CQEJ8QnpBh0FjAr9BFkHlQfmAo0DuARmAmwBGwDo/k3/W/wm+kD77vEP+Hr43vFA9qX2L/MZ893yq/gC9uP3Wf4G+h76Kf4Q/dz+xvvY/Av/WfcV+cf79vp+/U/7f/o79W72K/pa8vDz0vh09DX2wPd++1cApf+wB1UIygh8CwwL9wySDqUNpQ5UDmwMmgxXC78LZw4eDkwKgA4GCR4DoQi5CAQDawd2BEQBtQL5AicIDwgnA8kFcQbU/4EA5QWI/6H8HQBD+vj5o/0U/S8Ax/qs+zL6lfb7+Iv3jvh+9w3zU/Vb9HLztfg/9szztPVX8m3wffVF8/Hz7fYe+DH3mvfN/Cz7Vvcf/MT8bPjY9vv4/fZ298j3uvrH+pv67wBu/gr/CQfiAtsEhAhvBVgKpAgEBuUJ0wnjCSoL9Qg8CL4GPwYoBrIDVQIqBjMDNf3L/nP8m/z//jb52Pkl/y76z/kH/B75WPkN/L72xfbk/rL7QPnb/Mb6Lflu+iL7BvoL/g79Y/oa+lH7vvra/EP+Dvxs+xH5ifjs+9L2L/y9/Qb46vkv/Tr7Cv71BtUCVP7rBKIBaQA3BQACpQMcA1ICjQSCBkoDggi7CqcEkwdICV4IHwdiCe8NMwb6B3kNPQkgCXEJtws+CoUGtgYaAzMC4AQYBrT/+QIgBOH7BwBoANX+ZgNKALL/3PyD/wv+qvkvAd38evkG/lH8M/93AJj+8P8DA/0C+AGjBLACov/wA0P/VvwgAqQEaAJh/1z/dv87/jX/3gCn/m/9G//w+JL6Xv8o/7AAPwIn/8//df1u/RgDXQNOAFj/mP+RALv9AQTLBwYDDgipBtECsQSrB9gLkgr0CaUMBQmbCOEJxgo5C9cKYQfeBCcEbwX5Be4BWwENApz9rf0Y+//95AK8/ur8AAEp/xn/XP6M/+f/HAGPAKv5rflHAbH8pP7qAjf6gP7JAdj5cf0AAwwCsP7O+zX+Ov5i/tn8tv1y/F/9jQA9+n740v389TD3/fa089P6qPX088v17fE3+n79QfgP+Wj6xPnR98j9Ev8V/t3/QPu4+33/GQHBBrQD0QCQBagBA//UBhoIFgYABRIDXgT1ApEDJQe7BMcAiv/n+9376v4p/qr/F/17+rf8G/yx/D8BhAF9/sj8jv2Q/KH+6v2u+tf87/pB/G79UfrT+x394flv+v77GPso/8H+hPjr/esARf+dALT/EgOvAHwBOQIU/wYCNQH5/TH65ffD+TD53Pdj9N34nvpa9fL5PPvb+Sv+nPyI/Q79rv67/aUBbAauBgYEwwMzAjYFwgWKBtcK0giLBDoFwQDBBVwM7AtFCd8FLQfHCO8GbAqaCGIKFAu+AxECdgVkBmkK6QowBSsGlwjeBAIEvgNcBTUKZAcMA43/FgBFA5oD3QHjACb/AAGVABv7fgAzBqwEeASr/6T8swAqAgsGMwOXApwE4wFh/UP88AA5AzIBZACn9pH0nvv7+Wr6w/hy9nD6Mvjq9Ef6IP63/ZX7RfsX+cH6ewHnAor/HARkA0//TAFdAw8GtwrgB8sG5gfTB8kGBwciCq8KHgmUBW8DTQaYCf4GAAQaAosBxAUzA2f9awNgA9L/6QDs/XwCqwmwBukBG/9+/84C4gWDBIz+mQB6AGH6IfsAAMgAYQC6+0/6B/m7+SP/Ef2K+uv5t/cn+VT59PhD/Ef7rvmn937zn/Kl9+H6RPhE9gXzjvFb8w/0d/Wl+Gb6rPfu8Zz1kf17/7X/r/6u/gMAGAEyA0AFRQRPBaMFPQStAoEFiQglBZsEWQc6BNQD1QREBUIGpwGmAXECx/9UAigD7//f/BP8Yfvz+cj91P99/Hr6kfjC+Sf9Bf16/8P/2fvX+MH3SfXW+YX7wfq2/PH6uPha+aD6kf79/8gAUf+Q++385P+2/4T9PfxH/a77xPkr+Df49vdL+Wj2LfHG8DT2Svh+9cb2N/nE+rn7aPux+/ABEQdVCHEGJgbfBnoJlQfCCLkKqwjZCUMImwPTA7wFiAfNA4cBggL7AkUB/QHYBRMGkwYmCNEC3gHTBB0ILAs6CD8GdAZLA+sBoAPHA2cFZAVzAVj7i/rp/ub9ZPwY/8T8qPry9xn3UfuyAKQDYgN2AF8AuAMJBRgFjgYGBtIGNwYxATL91v4oAP390vty94zyUPLz8mLyafI69nP3RfW39Jz3YP6HAxIGOgeMB/QF9QgzDXML0A+oE3wOSQ8TDuAKAQ1yC+8L6QsyBt0DIwR9AyYEuQPsAskEZwaMBdECwwb0CTgLQw1nCbYGfwjTB8QHcgQrAa0BnwIs/sr5kfhn+RP5DPV480f1Cvh1+vv3NPZX9wD8Yf4H+0j9TAPYBJIB3gChA8wEnwkcCUsCmf/a/yAAtP2f+q/8Ovy492r16vRa8lb1u/lu+L3zRfVq+2/8gfrM+Rr7QQFTAmsBZQIBAzAGZQhhBmwH8wn1CvYJrwVtAuIE5wciCfMHXwVYBP8CxAIiBcYGfAiUB5IC3v7O/b7/lwa4BxkFmwK7/0P+0gC0/5j+i/6I/SX4qPG37h/z0vbE+Oz3DfNs8SvyDvOb9Cr4R/k79pzxKPHw8+j5Uv96/6v61vdA91T5+vuO/Vn+Ov2B+hv6E/mK+p8BwgTFAc7+jftv+dT7if2e/z0A9v6M/Qf4kPaz/V8C0gPhBNUC1AC4A+sINwxWDscP5Q/+C/sISA3kEZATkBIhDz4KUwlyCiIJlwcOB6IBrPuM+BT6XfwB+yH5Rfqo+KL0YvfE+1X9WwCe/9T9t/6WAC0Bwv1T/tsBAwA+/sX5lvY4+W74RvYB9/PzA/K28k7zvPRB9hb4BPxH/tL+0P/hAWwEiQbHCJwJWQvmDtUOXQssCRcI3AmoCfwEDQHU/wX95vjU9+j6n/2Y/YD5evWQ9zz8BQDgAn4EGAZNCGsI7wkTEO0UKxYSFHgOlgpjCyANRw4NCk8G2gEz/HH5N/p9/Ff8dPmV9dfyQvRm93H5GP2X/n39Tf9WA6EFGAhnCwANYQxMC8gGxQGWAIwBmAFT/Zv36vXu9JnyT/LH81vzSPR/9DnxPfJ0+Dr/EwJQAc4CVAQmBRwHMghWCiEK9QjpAvL6Y/pj/q/+/f0F+/f10fMj9bD1+Pd0+3f8Yfkk9dD2MP1HAh4GAwcVBrUHFgqQC5AOmBCaEQUOEwljBlcE5wMvBU8BwPzi+7D4wPWO94L5/fe69Hn0d/dK+Ib31Pri/bb+9AD8AZQEtAjhCU8JtAghCDkILQZWA+oAbf9m/qn67vcA9fHywfIE8pzwsO787lfxDvFi8Tr0O/d++X/7Af6G/+/+Z/7r/nX/ZwF2Atf+Vfzb+sn6Uf3I/4gAGv+1/sf8RPp8+vT9/wH/A9YCzgHhAEMBnwS1B9oIVwlTBx4E6wQUCCIL3AynDK4K0QhwBrYGpwaiBWUFNQSoAE39fft6+2P7uvze/Qz9j/mA+df7Yf1f/6YBmgAxAdIBngJqBTgKnAyRC/YIAwglCB4JrghHB+kE7gIBARL+fvy1/fL9B/wC+dX3bPf69yv4R/fe9675nvnk+OL4uPnC+9j9rP4M/3kA6QGXA2YECgWiBakGVAiFCeUH4gYpCIcJsQhQBtAFFgZvBjsF8AJeAd0CAQUqBEICBAQUCFcKeQoyCusKvAygDHMK9Ai2CQ0J3AaAAv7/g/4R/Yz8u/sv+wf8afqp9kX0AvW+9zH5lvrX+xP77vvX/sAAEARJCnUN9QrdBtAFqwZNCQ0MrgqwB5EE8QGO/k784f3a/7j8gPZT8I7uy/AO8//z6vOj9Yz1f/Ro9jf6T/46Ae7/7P3O/64FCgizBqoGHQnkC8oK1gh1CKAH6AeHBS8CoABCAmkDUgEbAAEBJAJ5A8QC3wGBBMYHvweOBecE6QXGBRYE3APHA10CUwC2/dL6pfli+aj4uPXR8+fxIe8B7t7vjfGW8ivzE/S587H0UfaD+EP7U/74APkCPANBA1ACZQMiBi8I6QiuB7oDof8k/sj91/yS+136Rvht9A7wkO5l70by//S+9BLzC/Tt9Zr15fRl+Bb9LP+n/i3//gFaBTcH4AfiB8oI4AnhCOEF4AMvBR8G3gNVAukCsgORAxYDDwSNBeoFKwTjATkClwQ8CLgHYgWlA/YCUwGOASgEtwJD/QT54fYo9wX57/pt+g33n/Rn9K/0b/Zn+rv7a/gF9rT2ivc0+JL7QQCGAWMAhf44/joBgAWOBr8FmgWhBdYEsAMNAmsDrwT4AoL/j/3Y/LD7TPkA+JX3XPeJ9z348fh1+UD5afih+Cv7Gv5PABADtgUeB3wHhQgZCroNhBBbELsO0w7eDhAOFw3mDNoN6A47DrwLXAoEC94LDwpaB+MF3QXFBfwFqgXIBIUDLgO/AtcB6wF/AMT+X/6R/ef7OPtm/N387vqH+Gn3pPdD90H2WPXJ9BL2rfbH9N/zbvVM+E37l/yr/pcAYQAwAFMCcgV1CbwLXguCCVsG4gRaBUYF7gQwBD0A6fkf9U/0+PWz9773Nffa9pv2hfZh+Fb7dP4bAcYC4AMTBTsHQQqTDIcNuQ1zDtEONQ/7DjQN2Av5C1wLoArMCJEJ5wklCeAG+AQCBRMFrAP9AVwByAErAgMC8f/D/UH+4/7l/j39Evsh+uv33vVN9XH0yfMY8xbyv+717TLuV+9873PwCPA68OHwd/Kp85P0gfe++4/9NP9FABcBRAIiAzEENAXxBckENQIW/7v+pP6Y/qv8RPsv+b73HvaR9cT2Ffm4+ob64/nZ+jr+9v9YALwB5QO3BYUGmgdSCEAJxgv+DGoN/A1gDuEN6QwJDD4LPwpOClIKhQkSCnMJYgjiBrAFrgQgAzsD8AOMAjcAbf8F/e/7Yf1a/gv9j/oZ+MT1UvQZ9FnzqPGH8P7vce5Q7ezuy/AE8Sjy6PIo83zz0/Q99Ur2EfrA/bb+PgAHAywE0wNcBccF7wUgBgwHBAcgBVYF1gSiA4wCrwMSAz4C0QHxAIP+Uv/rAHwCFQLOAuADgwI2A8oDCgXkBtUI4ghuCSEKjAxvDoAQSRIEE+0S9RLgEqIRcRCuDwUPqA/pDigN3gzeCp8JXgexBdUEgQPvAlQBs/+L/Sv83ftB+zP6tfmY9jn0Q/Lo7Yvt9e2z7W/uuO2+7afu4O8l8W/xZ/JB9C/0U/Sk85n0/fQE+J373f0eAfICYALYAB8BLgNGBhMIGAmICMwFuwU2B4wGoQgGC3QLvAfsBK0C3wJvBRsG0gaLBKQDTwTVAR8DMAREBZUDXwF5AkoEjAbxCEwJ7AnQCyoOAw8FEIQQYQ7xC98IVQmtCA4JQQd4BY8CPf+j/S78Vfyc/VX9wfnh9W71aPSL9Q72g/Yh9N7x0e1U6/jpROvv7OLr4eo56+fqqOqd6xfuKO818XfyR/J08YbxY/I889z2o/nH/OP7Av7p+wr+1/0lAigFaQXCBdwDDwIFA2cElAW3B1AHMAiAAxEBOwDHAHsBmwLOAksCyADuAFr/FwA4AqgBhAPaA5wF4QdHCPoKkw59D7MSKRS3E6QSOhLBD7UORQ6UDWELDwn4BtUDygE6/nH91vv8+hz6vviQ9y/1t/Q083H0AfWz9ZD00vLq8DLu9+9V8CDys/Ic8ybyQPLM8G/yEPPW81X1DPaf9ETzXPMp9L32FvoB/Xb/RwFMAIQC+P8CA78G9gcICP4IIwdeB3oJQAgVC/wKWAtyCn8GsgPJA6YCNARzBm4GowSZBAIE1gOmBWYGJgmpCcILzAr1DCsO1BBJE9MTLRWnFXgVpxMiEcUPDA9PDuUNNAxLCY4GuAM9A4QAwv/M/1r98fw3+qL6s/ls+rL65Pra+tH7CPri95n1e/SR9Xr08vOQ9MzyHPK58R7wFPDv8a/zffP89MnyyfOc8kv1gfTk+Ir6NPx2/bL7E/yb/nf/3AKaBHsENQbpBckENAUyB4UHOwpyCecHlgRUBTgCBgQ2BAMGHgYMBqUDGgWiA4IF4AcBCWYImgpsC/0Kgw/8DrMRGRSdFe0VoxVFFKIQlxFYDmMOKgy0CXkGcwQrAHX/hP18/An9HPut+tP5vPnw93T5ePmA+m34wvfJ9NX04PDY8/ntX/Ch7TDrH+pQ6iLq3Ops7HTrf+1z62/s0e30743wAvK88p3zuPXs9sL4sfqO+zr87/yJ/Xj+kABHAM4AnQDuAtABEQXPAx8FZQPgAz8DIgQZBFAFIQbzBJEGYwXEBxEJcwq7CCoKjwkfCowMSAyLDmgRnQ91Ev0OkxDYEDAQnQ7RDIoK7wYUBxACUAOtATgBlQD9/Or7XPut/EP76PuA+hn6Jfqa+d/5YPjm98n1q/NY8k7yK/E28IntVewe7LTr6O1t72nw4O/d8QzwFvPO9UH0xPhm9wD5ZPo8+KL8Cf/l/r8AAgG7/g8DPQImBRQGwwVcBv0GKwZFCMQJLQkCCQIKkAe7CB8KzAh5CtkKnQfMCSMH4AkvCm8LLQoLDRwLAg03D8kPcxCgD2kPTg7GEKIPgw8EDtoLjAj+CO8DMQbnBBADTQHJ/2P81f1f+/H8RfwD+5v6O/qD9375cPf095n2Ivbm8gzzIvH48qXw1PCw7qLx3+208aTumPBb8Rfz4fJF9m728/en+Sn6GPkb/Iz5Q/4R/fv+IgCv/SUACwEBA1wFwQczB4UIpwbfB4YIQAnPCJMKDQb2CJkGUQjJCNoIQQlmCbUIqwfgB6wHjAc2CjwJ8QvpDVQMpg+rDlsOkQ95D/ELyA1sCWkGQQd1AoQCQgJs/un8Wfy1+EX5ZfgA9TL2SvRH8pr0pfJo82/yKPJ18CPzwO8c8abs1e8d6QLsL+nc6YHoF+xn6K3q8uyK7BLwhvA387j0EPZP99/4u/la/Gz84f9DAiwDvAS2AwsF4AV6CEoLqAwADuIMhA3DDY8LqQ+DDKcNLwyGClcJzgqAB4gKHAppClQMNwuCCe0KjwgWCncK+Ar2CiYMvQgsCvAHxggpCMYGaAZ5AScENv2k/W774/pB+I/6cfU++eH15vaJ93T1lPiI91b2uPc29QP3PPM69vzyifNo82vwmu4W7QLuvewq77fuM/Cb7YnzqPFb9mr0A/it9gn7ivlJ/YL+xP+4AO4CWgOsCGgGiwhGCHIIsQnyCpcLgQ+iDbMOYA+WDWcQwQ+TEBkR8hDUDssOuAzwDbgNog8RDh8QVg0UEDwNHxF9DmQRyA+ED5ENWQ6KC/ANZQkHC7gGQQiTBFkDrAHH/qT8ifx8+Gr5ZfYu9933GfWy+Db2mfQ39tbz6fSp9M7wefK87uTxdu7l7i3uJ+8L7jfrTu1k7SvsmvCK7QLyTvO99JH1dvrf+Zf9jABc/oAEdQNuAo4JnAWYCNkLeglTDaoPFAwAENcNzg7ZEPYPUBDbECgQew+fD04Qzw3lD/0OXA6eDvUMoA5TDYgOoA4oC+sOLwzzCw0MmAn0C8ALgwsSCfQJJgbvBHoFdAEVAYf/2vsT+Dz4zvT39dH0wfFQ8YbwDfBo8Inu6usH7+XrmuwB65bqNOpl6rnpMugk6K3oGOhB6ODnmOZt5yDrYefl7S/s8O+k8N3xD/Nf+K/44fnX/RP9s/8eApUC2QYtB2ALnArlDaANMRCsEWURhhOPE1ATNxKlENUQwA7lDakPig0QDaENVAigDAIK5wcjDOcHpQrXCuQGmQhZB8cHaAjbBtsHJAbZBAICxwGZAD8BEADu/CH+8vk7/GX4gfhj9QH26PQ/8wf3IvI19c7zcvIK85v2uPAX9u3yuPAz8cHvm+5J8EHxFe5j8PTuL+yP8+rvo/FY9KDy0/Mn9qP03PZQ+8n4MPtN/Ur8eACeAPr/aQQxBGwI7AnfCXYMrA3sDRgSJg7qEkERyhA9FWsQWBPHEfwPZBNEEqkRWBMLENIRIg9xDvgO4Q9+DDINpwuLCakL+wnsBxALtARwB60FOQLMA6wDpv9JAZ7+DvzJ/gD9T/mN+4r1ivfj9o/1D/ZV9irzO/nK8pv1hPaC8l/3jPU79WP3p/Xn9lH14/Wu9TT2mfWn+P71LvbH9kv1r/mh9hn6UPvY+m36hP2e+in97P0g/tkAkwH+ASMC3AJwBq0E5Qj0CE0KXAtVC+0JQA68CnULDgwDC3IO7Q2aDOELvQoeDLwNKAxQDzQLdg2SCcALbAhjC1AIPgkbBgQICATzA0MCIgCcAVn/lP1L/eb6hvru++r2Nfmo+Fv1cvgo9y32c/Ss9Zr0hfZB9Jb4ufM/+MrzO/Rq93b0LfUS+BP0ufcJ9230xPip97346PZA+Qf5cPqP+X37MPwR/S38pvt/+w/+hPpd///8UP6Y/48AzP15A1IA7QFpAtgEMQFUBwoEQQP5ByIFowUUCSAFkAbiB6wESQqnBkkHPAjqBkcHHQdbBSQJIgZzCLEG8AMNB+ABYAPpAMgByAKdAV0ApQLY/NoAdP6f/t4BDPwv/UX9SfiF+4H6kfhl/fn4I/ks+z/3LPuz+L/4BPlv+Zr3hvuF99f3qPhJ+bz30/xd93L6T/d8+uL3GfxQ+Kb7w/wr+mz9gP45+/D/Qf/M/un/kwCuAe0C4QI9AyADawZrBVgF2QjVBiYIaQfLBkYJ5AmOBisJ/AdSCKsI+ghrCbIIKAerBp0EWQYMCDYG1AafBkEEEQawAnsEXgb3BAsFygGkBcIBDwciAvEDJgThA9QDuQQsAGgD4f8RAIkBYv8L/vL+r/hc//T5aftKABH6ufsO/EP7cv1K/Cf3KftP+5n5s/z4+FT5Kfzp+Gf5j/zv+Yv6afji+L/74/yF/KP7Dv2B/X8Bw/xtAET+df8LAND/kwGNAZsCowJGAgwE4gNVBGcEHAMFB9wIEAZiBzwG5AZQCo4IIQmKBvIHYQUBCZID+AV7Bv4EQgNFBWEA4QS8/sL/Wv9aAt/+wwJZ/Iv/oACy/uEAcgJp/ZACdv0V/hcAZvwO/jD8ufwH/iH+qfsn/Uz6E/wA/Lr6jfs3+qD5t/ho+br1bfm49iz35vry9Bf3YviR87z5YPbr9sj5sfY2+pz4jfrf+0z79Puk+43+1vyg/1L8qwB1//7+qgFFAKX/SgR5/e0DMwIAA9oFTgNYBIAF0ADgBWkBeQO3ArAA5gD1AV8D3wCY/y8BrQAUAa8BsQBfAOf/1gA8AXACxwKkA+oCfQS7BKMD4wK7AVICNv53/2AAXgG8/80Brv6OAQsARf0Z/6X+8/5IAOb5M/9G+pv+kf2f+5T8y/n++sX5V/oH+w/44PlH+Yf3oflb+m/5c/r7+375wv5r+5D7Hv76+3wAGgCe/9IAIADJAZ0BGwQLAwQDMQN8A+oBVgPGAo8CNgYGBMgEwgOXAuUFEAT0BWgDHAUOA9oEQQRuBQUGRgd/A4kEKgNYBUUEnwJ+AtgC4QMOA/cEcwPMA+QDVQEQBsAB/QNxA90AVwP0AtgBrgKLAxsEcgO6A10B8wHFAXYB9AHPAW8AowAp/wn+JQAN/rH+ZPtZ/Sn7k/uF+7b5lPrs/Jr7Sv7S+3/88/7L/Rz/rPxkAEr+cP6S/qD//v+pAREBtwFrAe4D+wEKBbECWQZJBSkI9AcWCBYGPAdEBWcHfAeRCPwHBgcUBUoGxwAABK4DagB5ACf9T/qk/X/94/oP/W/8cv26/SL6AP1a/g398v+yAJEAIgGjAqP/EwCgAFIAzf9YAJ0AwP7c/9ABAAFY/yv+zP4c/7n+Ef56/8v+2f/AAaf8xv5v/rv9+//P/5D9hwFN/or9a/2S/Fj66P1S9v36fPlH+UT6Ivme99D58/d3+Dv2cPca98v42vhy++b7Bv0fAd3+WgQjBGwBjwLUAtwAMATlAr8DjwX/AlQCSgTE/2cE/AI0AQoC9QKlACkCsQDOAPoAWwPLAzAGSAToBWcE3QLzAcz/BQNjAD0BWP+8/F0A3v6u/tb/R/9b/9r8hv4+/Mb8//ux/Pn7r/4fAF3/NACA/5P/CwAzAPkAuwFU/9f8Tf99/Vz/RQCc+//9D/2/+6P6j/zT+rX+2vz9+iz+H/0J/JD+lPzC/wX/0vzn+4H6Qvnl+gT+wP2J/5j/mf8Q/1f/X/7D/54B+v+S/6z+P/42AJkBNgEkAcgDbALyA+cCsAJiBMMCbwTQBP4D3wX3BMoF0gaoBiMHIgcpBMkCIwO6AhgFAAZxAwAF8wFmApMDxwNcBIgFawNTBGcCUgO+BE4CLwOMBRwDmwRwAp0BnwKrAd0AaQL/AP7/Sv+K+7P7kfyq+/r6k/xn+hP8FPt1+Q/8vfmR+cv6hff2+Lz3KfTj9uD3tfi9+6H65vrO/JL7IP0I/vH+tQE2AQUAVwC+AKkBKAJVAr0D0ADhAWgAE/87ASIBdgHjA38BbALHAvkA3AGbAMYAjgFJAXj/fwEfACT/eQBjAJ4DmwQ0Ai8D4gOPBAMHlgZwBi4IpwUZBLgExgNRA2sDGgDoATMCXwFvAcgAhADoATP/OgCx/D79wfvK+oH7e/oX/JP8t/s3/WD+0f2g/KL6K/pP+CX48PYK90r4jvkK+6n8qfws/Bb9BP1u/kUArv/yAT8BJwFkAeYAmgKJAlwCYwRwAeEClwIoAhEFCgRQAsMBqv7d/tD+X/5lASMCKQKUAgoBwP/h/gf9gf3A/CD9Tf+H/qL+Rf4g/kj/P/9k/9IAUgEtA1sC4gLwArsBYwNtAR8AJAF//xAAhwBpABYDIAM6BPgCBwQMAhICgwGk/qX/Lf7d/eb/BwA7AXsAXwBQAMoACgF5AHoAO/5y/mj9vP08/icAowHHAyMEWAM1AFv/yP65/ZT9oP3z/dX9Dv3b/y8DyQVLBlIE/wLZAFv+Uf3T+6//e//J/+L+Of4D/3b9nP1U+5L6Mvn+91H4l/hB+lD6Hfy9/cP+9QB0AQADVgJkAmkCqAS/Bf4IRAoSCykKZAmbCFUGswbQBR4Gvwc4CB4IOQlDCG0IqAd6BtwFDAVIA7MDgQOOAyADrwKHAPABRQCv/x/95vpo+c35j/mp+3n9EP54/mf+o/2H/1cAZQCoAdQAHQAgAAb/mP+AAe4CPAOJAuUAIgEUAtgAFQEr/gH9ffui+e76Qf0fADcACAAE/6P9dPvh94f12/Qb9NPzI/Tw9k75Zfzg/Yr+Yv8O/gj+nf1u/hUAxP4y/dn8S/xm/T39qv37/6f/G/91AA7/tgDAAMz/pwBWAS4CJwPrAmICSAO7ApkD2QVjBY8FLwPJAeH/j/6E/Tv9Zv26/Yr9x/6j/m3/Nv+F/TH9DfsK+dT5EPqH/QoAsACtAGsAoP8HAIn/sf/T/6T/Nf+5/c79y/v9+fX50PpB++H8Nvti+pb6tfms+kn60fnS+TX57fig+OH3zvcl+B75pvst/Uv/HAKXAtcFnQbMBvMDoAHJ/Fv65fjb97z46/pw/HT/xgMEBw0LWQyHC/8JuAelBQIFSQSOBV0GFwijCF0JnQmJCfwHugboAmv/svuf+Uf66f1gALUDMwWHA4kDkwEUAOQAhgAAAIr/p/+eAEQDBAVSCHILvAuaCTMGLwGE/fX6Eflp+WX51vom+xf83fxE/Wn7n/rW9+/3kvhN+oD8BACxAnMFhgRGAvX+V/3V+4P8/Pv+/Gb+NwGUBUQK3wwcDeIJPASq/CP2JvOB81T21vkI/oYBHgQYBgYHrwenB6oGiARXAR0BtwLnBpwMZxD4EDgQggvDBkgD7P8O/8/+MP6y/xwA3QCTAigCEQF4ANr/qAAaAugC3gReBaMF8QVLBOUEEwd8CB4JVwlRBwMFVQFR/Ur7BPpL+ML3qvc1+Ab7Mf2i/poAvADn/gX7evh29yL4Ivn1+iT8Bf4z/7P/JgBL/5X9Mvu0+i/9xf/bAngFYQZOBSkDof8e/Df4CfUw9OnzLfW9+Bb91AAGBeIGrAa6A/sA3/4A/sz9AgDGA54GBwm8CDEGjwFb/KP3xvPG8dDxyPOt9vX5L/wb/GX6KPfO9Tf35frf/rMCuAaUCwMQpxLUEl8QxwurBoIA9vtw+lT7R/zo/E/7hvmI+I/4z/gZ+R35vPc+9rP2k/jR+v/8IP5L/q/+mf/dAAECFQF7/0L9xPxM/sf/VQEAA3kFBQfOB6kHawbfAxkAjfp29kb1Qfbs91D54/pL/dP/GALxA38EnAOCAJf8xvnb+dH7P/8VAmgCbwGG/7r8pfnV9lb0P/J88b30kvoTAvoI1w3/DnMMqAay//f5HvcR+KL9IAXSDEESIhQ2E7AQEQ3eCPgDRgCb/XP6DvfP9Zn3C/t9/3wCywNwBN0DogPZA6UCbgDV/Cr4/vXi9MT1bfnN/cYCfwb/By8HBQa+BAEEJwUDCD8L3gv4CacG5QHB/p/9X/7m/sP+kv3u+zD8dP1P/7j/XP/m/Uz8Bvxj/kgDGAhqCw0OoxAVEpURARHqD48LDwSQ+oXyEu4T7jjxsvbt/ccEJQvcDXENawqgBu8BQP7y/d0AsQXqCmUPVhOBFJMR0AryAb34//Cq7N7rtO6Z8yf3RflN+W341vjU+fH6DPzH/W4AmQMuBjgH0AQwAHv7Wflk+5f+OwFPARIBDAFmA9AGLgsJDpoMxwh2A9z9UPl29gD0+PDo74PwsfM++fwAfAhTDQcO6ArxBCX92fTp7eHpLer47h74wwLkCjEP5A5ICUkC1PoR9YnzH/Yk+sT9GAAAAEn/7f2+/Zn/3wK0BY8H2wa2BIADkgKBAhwCfgK3As0BJABs/R35DPSd8ejwn/C68DTyf/M69a/2wPjy+gL+CwHjASIC1QK9BPgGWgn4CnMK2wbl/+b3ePIM8oP2fvxfAYsDNARtBOwFsAkvDWIPNwxOBUH93/Qt7eTni+cl7a73nQTXDlgSOg/+CEkC3/2x/BP9Yvw9+jz3/PXG9pr5y/xG/5MA/gDiACQCUQYQDU8SShIJDZ4EU/3u+A/5Sf18AnsHOwpcCrkJIApDCt0HtwPi/tv59PVc88/zJvb794j2YPPG8B/xVPQO+dL9+QDmAIT88vZu9TD67QI8C5gQ+RJkFM0WjRhxGaEW/wxT/Z3s5+Iu4zjrSvbN/38GVwp5DvURkxXjFuATWw1CBPH7ffbI9O31J/mJ/OL9k/0U/S77VPnW+Hv6NP7OAioHIwfgA/z9UPU770rvh/To/BkH0hBPFSYWqBTQD8UIOwMSAEX/dgIrCpkR3xUxFooSOgpz/4LzUOtS6CHpS+uh7onzuvoWA9UIxQpZCT4FDf9G+bH2vvbP+Lb6tPph+Xz5r/uE/+kCZQcQDOQObREfE2ITVxLIEMgORgq3Bdj/+Plg9jn1mPQ69aH37/p7/gMDzQa5Cb0J+gZWAqz/EP46/AX37PDI7k3wVPJF9K31pPd5/BMEbgtuDYwKtwIc+dfxJPBH9Jz8lgSwCeoLhAnFBBEAa/2K/NL9zf1m/a//JwZdDqoVnhjPFMAJK/m86Cjfdd5/5I3uyfj/AI4FWQc+ByYGYQMb/QP2Du887Ejtm/CW8v/0Dvj++0oBNQn+D+oS8xRaFT8UgxKFEVQRZREuDuEGtQAo/hT9mPrS9pDvIOgL5Krlq+5C+wgHVQxmDPYINQb/BDkAPfpF9FTvg+3Z7hHycPM+9MH2U/sQASAEDgb7BWEDGf4t9xHx6ewq7jHz0vkaA7cKzQunBtkBg/4rACEICRLTF9saNRyWGAoTog1hCc4Cjfob8ZvoNefO7cP5aQVuC4cKpAO4+6X1PPMQ9EL2xPae9f73PP/SB2MPjhZ1GmUbxxnGFL4NWAfzBGwFYgi4CVkIFAR0AGEA7QGmAtAA6vrv8Zbr8OpA7ib1rABaCxERVBOwEZMKOgM1Au0EbQT0/w348u8r6xnt/e/871fwTfVT/38LfBRlE6YDBfHI5LjkQOvV9JT6Af4fBAIOABknHx4dYhKiA8L4HfjZAOgNKRdiGJwQCQO+9fTsYOoH637uwvSr+1T/vgFwBIYI+Qh6BwEFcAA4+6b3WfpFAEwIHQ2hCzIEnPyL+QX61P2GBWsOKRF6DU0IOwjpDbEV+xVaDv//lPCn5rjnj/Hv+EH6SPMq7NTsJPqQCxQW/BUQDLT+5/Et7HPvjfoFBI4EJv3G9DbuXuur7ETzIfzMAvYEtQOqAEj61PIV74Dv+vSp/1kI4Qf0BIMFtgbFBx0JoQeHApn92PtQ+3j88f2h/ykAkv09+sD5RfrZ+M35Kf/RBlAMLgwaBNr5i/Ro9Hv6uwguGA4d/RKEA1r0mOtM6i7xJvrS/pr+ePxs/XME9A9NGbgbuBeEDqcFIf+C/SH/5ADw+xjxk+ac4K7gmuec9hQEewi9BigEsgCe/ID9ZAKRBrcJJwlfAo/53Pcj/Mj/cQDW+Unvs+j/6/b2tgLiCRcFTvkl7kfrN/PTAcsRyBoYHe4XTw5pAOjxTujJ5cHsKfgFAT0FtQNuADIAdQVVDgQW+BqnFvYKrv2h9DTzXPb3+6b/nf9C+mf2BvznCQoa1SP+IvsWtQUD9gzwOPQZ/UQEAAopDGwOzRGSE4YSIxC7DdwEXvgX61/kLORK51zsu/SiAKgIcQ5LEEQQ/A3tBS77cfPO8Vnv/O1b8Iv2f//pCfkPvQxAB0n/LvZs7Orna+v780z9fQOeB6YFfQI0Be0MkRQAGW0ZzBD8BZL/2P1K/uD4M+2O4Yng7uq6/IcNAxXJD/kB0PhB+2AJgBveJz0nQhvSDV8DCvz49132wfEA68Tm4Okv94gLSxijHDAbhRWnCYX9CPjH9yP9GQWcCgoQjhTaFAAP6QgDAu701+Mz1OTMYtJo4bfxEP6zCLMNuw5OD1UT6RJPC3L7X+ga2gvWidwo6Ub5ogW8CtQNyBFhEKYIsPyf8vPsOO7a+JkD4QbG/rv06PHU+fYKgRvQI8AdzBDpAy/4j/Ga8uT6g/3t9qzw9+rx6yj1BAQiCswBm/TY6zHvJ/+6GgkyKDrCMmQh4A+aANz48PVK8yLuSOrA6wDyr/pd/xMCJwJAAfH/uv6x/fj6V/u2AxEV5iVQLvQn3hVj/erl9tX5zS7MvNDC2tbiGOnB8Or7rgaIDwwYlRukFRQEPPDC3+jXSt3y6e31jP5UBeYHjgTrBVgKjwr5ACz2nvEh9i4GLBggHq0WHA0aBej80AL3EY0XLQ7SAPry2+lN7jr7owPmCLcHEgM5/Av58vSe8y/18/i1/vsDfQjwCEwOFRlYJTAtCC/HJi0UPgZCAJH+cvpH/AD/Cf7V/aj67fCO4rncTuC67pADHhG1Ee8MgRLPIJgvSDbsLEsSo+yd0aPH58kV0zjdeuPr3indT+Rn8t//VwtkFEwU+gzAAyP8QfTX8xr8kAQkChsRMRr7G8wQKv5a8a3qWO0o9rcATQdDC58RkBM9E08QSwreBcUDagblCLoKBQp/At/+r/o9+Rv0FfT+7wTsCus37d/wWvRHALAKnA65DGIIgQaCCYcQtBaFHn8j2SU9IhYb/BG0CG4Byfx/+erxc+YO2ffMVMbMykXcxvNNDXcgGitXKWQjSiCeGC0SBAfM9RThIdN00pbUftjV2gzbE9lf20XirOoN9Oj6uP0W/tEEFA6VFKEX/Bq9HTgcohciE8kPMAbg9prnneAn43jwKgXfFAUWZAofAdICSQrNE1cTCQxfATD79AFXCMUNQQtMBbDzlOeI6ajwWe/r76X2ivpM/iID8QpgDjsPrRDVDv4ItgTbDFEXBh4LHpcY2AyyAAb9rwHjCBAN1QZo9tbihddl0ZLQ99ve8GkE8g7QFh0XYxMdEOsKfAL8+/r0Je2v49fe4Nty38DfAt9t4rzqW/GM9d/3JvRO7hTssfQ2BbcR9hsGHVwbWxnQG5wfSBqWEDIIWAJh/hH+6/sK+XP6Ff08/9cAJQseEYsT8xNYE6EKpwGGAtsHFgvXCjcKF/2M7OPoVO188gH4lv77/b/7AAG9CzoUlRpXIRchVxmAD0AHXwGiBegNUBCaB5H94/pL+VwClA34FSESFwZC+Mnt4e9C+KYD/AodCxoFW/pO9Mnwn/N49OHzoe327eTtE+s17PDuSPNA8f7yZPI18ILv3PON81TtuO4X8Gr2OPn3AV0OfhYTHYwkWSmUJNEeoBd0ElsLUgtvA/jz4ucd4xTsqvQyBToTeRceFWwNxwjaAeIDFAyFExoXJxE1ApbxsugK7Mnwtvki/3wD8gBf/UQAzAzWGMojNymyIq8QkASb+MP4mQVaDFUJ8gI6AGb95/xkA7MIyAsOCxQJeAMzA5MA1P4L/Fb5JvlD8AvpCOeK5gPmkOkS7qrsde4s7x7rOOOR4Z7l8utp8WbxUe+L7JHrnu/u8cX0lPga+jP7JALvDMkWgSENLBYuQSnPISMZ5w6eDjUMMP3H7I/g3eDo5o32gQeFEFMMyAYSBpMBjAXmCzkPtw39CVkEnvVW7ZjpBe+09W7/VAUDARz/pP2kAjsMsheyHAAY1A16/rf06u8m9hEE0hCEE4UJz/9e9f71bgCdCAIPww7ZCLEBLvw4+qz5rPuQ+Qf1jO6P5oPaq9nM4vrvTfch++Xu+t+W2T7g8+vk8rD9uvuJ8Rzu+e7y8ufzFPzMAC8AEv7//EIAOwK0FQojAy+NLvAoJyRoE1kLOAjhDa0IdP+w+dfwkuv47pD8jgMaCjIKfQkbB+MBIAgGB78OtAuiDFQHBP3y8ELwN/4KBMkSDxKSDMD+nPyKDUUX2CJZIOARZPl38Y70Kv8lDE8R4wvn/dT0FvUK/18KERJjERwIV/509e/4pfzAAx0BjPkl7cnd3Ntw3tTnme9R9v31CO2r6BLdn9qM3UDr9Ppy/w/+KPND70jxhPkdBbgG1gGx+g733/unBZQRiRuvJC0rri+jKBIfGxH/DMAMjg1ODysIa/wj8W/usPAk/Tb/Bf+G/539sP73AD4IqhHuEvYPLwwNBRwBgAT5B2cNoA6TC1oCbfiZ+Uj/jQyiDjgQ7gxqA9z8SvpY/tj+6ARPBR7/iPjX+F77YfyWAFEBs/3M99/5v/2d+hP4s+zd6+Hq5/Pq8abvt+Wk4pPt1vEU/nD4oO6X3bvSx9nM6F340/8vBAD5RvVb9Xn6TwPGC7sP6gkuAKv67/9RC34WHyI7JQokXxr6D+0FCAOjBlAMYQ20B/oAyfag7ALr0fRsAgEIsggwBbX7xPkl/D4FoxA9FjYSyAymA+kAugKBBa0J8AdmBGf8NfZY9OD+SAfPD9AS0gqrAd36q/1y/b7/pAH8APP6s/A177nuzvSi+xD/7Pwa+RD5+fUQ9Q743/sx/Rf6WPQv9ZTzqvHv98z1g/XE78To1d7J2/jhkPPM+TQA/wCR/YADjgquD70PPxC1D3EN6QlrCR8LEgiwCQsPqw6jD18MLgg7BUMEvQe6DO0OqAuLC239J/1c+5j/CQcRAi4GvgCwBIgACQW6BfEMtQ7lDcgKOgRvAoIBRAYNCZ0HDAXf/1v+zvvaCgcNcg7sD84Emv2Z+eD4T/uCAO0ALACR8yrqZ+xh9j7/2QX//pf3I/No9KL9sP/0AmIDa/9M/bP64fdc+UT2kvXK92DvX+lm4zndoeGw5i76mf22AaoBZf9DCHcLexNJFiQUjxUNER0MoQP5AAoCdwJfCJAEbQcDA78BrQI9BUgKDg8gE7YQTAzSAB8A2QElB/8JyghZBd8Cm/31/bL5NgGMAhMJMAX8BRv/GfvD++76cgLLCEwGOQEK8yH2Wv1dAskPDwvEBZ79m/VS+N313fyI9y/32vMX8UL0xvcy/3T8+P6A+nL1Ufx9+gf/v//v/lsE0fu6/oEC8vz2+/X1ovCT7U3lbOfp3WXgneY571Hzrvbv/J7+WAbmDkESMBV4DhoPdwrzC6wJGwvnBVoFdQggAh4J/QQdBQcCWwRLBnMFsApjCKcFOQSiA2cFMweiBgADCQLs/jn9hQEh/LoBEAMYAVD+f/sV+sn1kvow9rj42vqY8xr7X/h99hr75vtPAhYIoQO/At/8ivrw+Zb/bPeR/LP7ufVb/Cn3l/yN/ez1JPyM/Cb8pwDW+QT6Df5F/tkBXQmjCE8Fsf5x94P3r/bH9S331/I38f7uCfBW7zTzUQWmCGgSvRNTDasMuwy8D4wYthejGcwSswhaC9cLKw77EzMQZA/3BfL/GwLnAm8FqwVIBqEDwQLLAJcCvwLOAqUGRAUCBvUDp/77AWD9lAGABucBuwSZ9j3yxvXh9AD93P3q/GX2MfiH9k8A7AYfCRoONgQ8AYP8mPzMA5r9qASr+tT2CfYb9wf2o/3l+en3n/VB7gv42fm1AeEFWQaZBVoFsv7UB8gBXASgBiT9yPkD9lPtO/XS9X3xFfkm+cz/+gMKC/EI7wyADt8M4RSiETgT5hBoDoEI6hF8Dx4ReA8LDlQHtASEA7v+AAJ0/bb+8/n89iv8D/0JA+wEYwM+B+YBIv/ZBKj+0QHbAr79HQAnAaH6x/l08+73EPoW/R/8UfXp9IrzIPoq/tEGpwM6B3D7oPwtAfD/FAEzAOr2cfkW83X0hfWD8i70a/Ar7MvtFvDh9GL+zflaAdn/8f1nBOX/3gVyBZv+8/+O/Jj6o/SB97jvbPX78+j1Vvx/+7H+Av50/pcBsQZ2CgwQMwthDnoJwwlbDSMMbxRhDCcOgQnjAL8ERgCbAGcDk/5V/aT4YfbC+QH/uv/V/2wDPPy5/igAf/66BJgDUgKlAKz9QAJl/YX/kfqz9x0AW/BaABf5WfoRAxX7/gAcAzMBrQb5BrkDDgmjAVgCwPt+Amb5yQOe/i7/CPvM9BL1UvT++KT73fyB/RH7XP1E/mn8wwOgAMMHggQcA5UB4/ty/L77Xf4W+9D97PgE+EP7iPhY/RsD/P69CjQFewV1BSYDyQQcDN8K5QsGDVUGtwfKCUgGRAsRCqQG+AO9/0b8x/2iAMT+vwTyAIX+yv4g+lUBzgMsBtEIqwHJA+X9xQE0AFEDowSgAT791v16+Gz+aAAgBRYEhwLB+noB0QHKBCMMtAQzCM4BtQA3AtwAygTJBH0A/P0U/V73//m2+b/53PxY+SD4vPn4+Vn9RAANAmEDswOLAjcAqAKx/ysE6wNXAB8BBvcP+dj3o/uJASr/tAGb/WD7jwKF+Q0ImQIoBGwExwLtAdID9AVyBIgJgQt2BMAIgP++/J0Biv6QAwIA3f/C+VL7rf3j+93/3f7U/0kAdPvO/kT5kf+N+or+bf3e/ir71v72+VT/TgF4AEEAFwCH+6b9tgBJ/5ICXwFR/n0CU/8AADIE9Px5AFT+lvuy/f763fpY/DT88/0N/vP30gBn80ACyvw1/scA4fk9AOT/twD8Ac3+pP4G/p/85vtP97D34vmV+0j8/fu/+gn04PtM+iwAkAFG/Y782fws/TYD1wMrBgUFhAbsATABoQUn/kkJ4QGmAt8DXPr+AHn/hv6FBHr8JgIb+9z/Yv5JAJ7/9P/c/aH7Bvv9/K34rgA6AHr+zAdt+DcBCP6m+58FuP9fA+8AKfw9AQD8oAPXAnkB7QKw/dT9Y/xx/6v/ZQJmAsH+sAF2/hj++wPP/IYEEf4T/H7+MPmeAGgAHwKMBGz7CwH699n/SQAO/lUEN/kz/pT6kPcyAgv6RgGJ/H38uf/X+44BYP9fAhMGwQLqCiID/gVfBRoBpQfjA/wGVwhTAQ0IoAE2A1UFCwCcBhwAxQDPAlv+UQTZAD8EZwG0AaYAwv+3ASUAmQEEA2v/UwIZADYAfwBFAJQA7//I/20DFf1EAwkB3P32BYX9TgS8/yT9dP+q/u0BaAIGAu0DR/9ZAy0BUQTVAq8EsQJR/8gCOP48AgIFuf4SBA0BvfxcAv/88gBbAXP+kANl/nP9pf91+jUBcfz7/pwABPx4AFT9b/+b/0j/ogLM/tUAHP9T/vIAKv+X/1QARv46AUoAhwB3AIv/RP0g/k7+aP3IA9z9GwAwAYf7DwEtABX+dAMl/+MB/QAG/5H/2vx/AJf8uf9V/zH8uP7w+vb/C/tmArn8sALO//P8ef2c/kr75ADL/K79qf+0/Oj95/8e/AoByP4t/7QB3PwIASz9J/7hAQf81QCH/GP+5f22/+j/+f3o/4j8FPyLAMf88v77/iT7Bf5X/NH/Pvw9AnP++vtwBeP5DwI0ABj+pAFq/6f9kv3O/2L/t/wLApn7lP4zAoz5JwFM/M39dv4IAI/+DgDU/V3/UfrjAKj8Hf6iBOP97QKUAAv+QwB8/qn/x/+A/sQCkPwpAW8A4Pv7BKz90ALMBO4AhwI7/wYA0P/m/2ADpv7IAh8AHP8kAxz+mwPV/aUCuf9J/y8FB/02BQ8DZv/+BDUAmQHPBVwC7QY0A5sCfgGfAToD/AHVBTsB9QLSACwA+AKRAE8DPAN8AHkEBQJ7AgUEtwG7A2UBMgGNAUUAewFYAEkABgKL/g8Cxv86ATQC3v/6AQ0AdwCnAgT8ZAOF+wEA/v+//JkDgP+fAJcAfP/l/1QBsP+jAfH/0AAwAHUCHgGZAmcBWAPWAg8D8AMUAiQC5AIfA40BTAPOAHEAZwRN/2EE/gASAIUBmADa/xwCKf/VAYj+MQEpAEAAWwNWADUFHgBAA4gA5P9CAZT+GAL6/qj9oQFI+/n/pPuy/cD+sPtWACP8yABz/m/8bAG0+XoB7PuZ/uX/3PvAABL9bfxr//v62gDe/KP/Tv9f/cMACvyc/jv+9fqe/5b7HP5I/Mn7Tv1v+t8Ae/rS/RT/hPlOAV38Kf33AMr+1gCJ/3r/yfzTALH+Mv6rAKj9nf16/2L6vv86/EX9Uf9V+53/yPt2/qH/lf3V/6T/if2sAdj8cgB7/af/cAHR/oQAqf2O/z//NgChAQv/pwHL/fj9gwJq+7ECNP/K+rwBw/rp/ev/OP2l/4j+b/8e/agB9/0YADEC6v3SAdv+X/5OATj//QCl/v0ASv99AbACV//ZAtL/wP4bAh7/bwJXAVkARwBqAFX/yv4CAqkAcgJQA7cB1QMqATADpAPmA0YEVwLWAZABmgEYAtICHgK1AnsCyAFHACICxQA2AcsAEwFzAHIAEQItAJQBVwGo/8sC+QBW/0cCCv/CATMCAwGQAcsB1wIUAl4EWQJ+AwADTAHFAYIBUgDi/8f+sP+h/QYBcv33/7sB4P3CALX/zf1QA1z/LAFRAh0BXQItAW0AaACxAEIA/v+QAb7/LAGs/9H/gQEx/uYBRgD1ACcCEv9L/4z/YP0VAU/+WwHUANT/4ACL/2wCHALnAD0BUP+uACz9C/4q/zX/9gHM/z0AKQAd/er9BvzW/XT+5f0s/ib8cf59/Un+E/9W/QQAPv3h/hD/6/46AZn/YABFAVsA3AD6/xMA3/+KAP7///+x/9z9kvzK/Ez8Ov7J/RX+Df7C/S/8mvy9+9f81Pu6+3j6qfxA/Nj8wP0h/hn+gv9f/XT+3v0g/Tb+z/0U/5H93P6Y/Vz9CQCg/i0ACQEAAO3/p/6j/g7/kP+9/iv+Gf7t/DH9Tv2y/rv/5wDo/y8AmP4t/wr9C/2L/Rz+uf62/lz/AgDy/t3+ev4G/m3/Mf3s/nf/UP9lALP+o/+4AIP/9QAY/8v/2/9//l8AIgGSAQ8BFv+R/+D+h/8v/3YAIQNEAkwCOALjAVwDuwAbAOr++P8lABQAtQETAhcDDQOhAJsD1gFPA1ABkwGYAucBcgM2BIQFewcoBc4FzQF4ALD/pv3e/mwA2AB7AQACvAIqA2ID7QKhA6oEwgNjAVsB0QDU/9EAwf+PARMDtAEpAZ8CpAM9BIMCoAHrAHQBCP9C/un+F/+Q/3b+Ev9TAIwBvAGkAH4BrAI6AMUALP7J/38Ab/98AEP/YwCjAOYA/gFDAv4A0QFIAMgC5AMbAw4DkQIuAmcCfwFEAfkBNAHWAFcCagEgAgoDWAIqBFwD3wApAdQARgICAiwBZAJlAlEC3AHRAaIDFQQLAjMAMACd/wD/jP4J/vQA2v8V/+QAxAAgAsYBcP9A/7j9GP6//Jf9Of+7/vn+dP///2H/ov1o/nb+NP9T/if+a/+g/k79Tvs5+mf7qfo7+i/61/uL/ED7f/yQ/RAA5wFZAa0AwwAs/Y77D/pT+l/72/te/P38fv7T/woBnwJOA5YDPQJU/kD8Pfur/Gr7BPzQ+pD6Ffsm+hX8K/7r/7cAKv82/nf9i/2M/YX7Tvwa+576UPuO+mL80P3w/sX+5/+4/6j/IAD/AOD/N//o/cX8Sf3t/V7+rv5O/sH9sv6Y/s7/MQFnAJT/Af8y/+v+kf+g/0P+Av6i/G3+iv+XAXMCfAEJAW//Hf63/pr9Rf6c/ij9cfy8/I39vgAMA7AE7QNvAmcAx//k/l//OwCzAGMBJQHYAdUBpQIRAi4C5gJ8AcX/Qv+3/ZsAFAH6AJYC3QHyAa8ABv8I/wABTQH5ANcBiQEeAfX/4f4d/2L/AQAmANUBAQONAxsDGgM5A/MCNAL9ABECWQI6ATUBsACbAf4BeQFHAS4CrwJKA4IEKQYZB1UGjAXlA+YCLgJrAJr/pQCCAAAAQQAmAXsBAAFCAoUE3gduB3sGEQf9BXcEGgG4/jH+E/0N/Af91wDuBH0F3gTXBNIERwMXAC//+f7o/lj+X/1X//z/UgCjAAUBvgI2A94DbgSKBMUECwPeAcAALv4B/W37efwL/08ApgPlBtIISQdQBS0DgwJ2AlIAGQA2AAMBjAE9AB0DxQV2BrUFUgSyA0EC9//f/YD8Bf6Q/j//5f+MAQYD5QMoA1QD0gGu/4v9APu0+UL5x/oL/H77Pf3W/VP/R/9y/tf+if3Y+/v3vvYP+ML5gfv8+0P9uf7P/z0B6AE/AsAAEP1I+Wf3Yfj1+bn6J/36/dH/KgLxBO4F6wX8AwMA6vv592r3QvlA/T4AygELA+AEcwZoBXAEzgF7/lH4DfOt8XXy//Xe+On6DP3c/M3+XQB9AmgChv8+/Gr4XPY+9RL0oPMT8nbxefIt9gX7WP6CAL0AdP87/Mr2zPNp8WDwpfGE9UH7uQBIBDIHsAl2CccFKAC1+2L57vfe9Rb22vi++13+mwKkBxQL6QvhClsIWAVCAh3/Tf26/ZT/pQFmA50FwgZgBrUDVQN+A34DpgOXAcMA2P/L/H36rPpa/XwAFwO7BmYI8QgFB9IDVgB8/BX5lfZ59V/2MPll/scDbwc6CVwK5QmeBmgA1fqI9nfzQPPG9fz63wDfBm4L5A7HEOMO2AnuA3D/svyM+jn6fftJ/dEAfwVnC4wQ+hRvFEwQAwt8BPH+Efol+en7j/6sAasG/AxkEQwTphKrEE8MZQUK/bH2RPMg8yX2WP1BBs4MCw8MDsoMKwnbA1z/1/2N/XH9o/tx+//8R/4KAFcDnAaQCAQG2wFg/n77avjf9Wj0x/RW9k35GvwXAY8F3ghRCtYIaQS7/lr5JfYa9KX0CPcD/JcAJgU2CbQKjgpWCFQFnwJpAksCHAFOAMcBSwRSBQkGYwjGCgALhwoxCSkILwX4AJL9dv1//lf+C/+QAuEG5AflBicFRALA/LX34va6+b7+UwI9AwAFGwffBgQE1v/x+/T1FO7V6Zrrv/Et91n6bPui+4b7xvjv9SH2UfdA99z2ivgZ+0D7L/rv+kz8Zfyy+o34JPgY+Rb7mPwI/Uz+fACPAugDXwNMAnMA+f7d/rcAzAIqA/cBzAGhAi0D3QE6AW4AL/0//Aj+Q/8+/xX+a/3h/l0BggImAUcAeQKWBKsEEwRhBEwFfgKB/fP4jfZo9N/xrO+u8Wv10PdY+e78nwAYAMD7kvhr9pnzXfPV9Kf2wvdE+R37s/54AssF3QecCTIJGwbFAgkBQf8Y/fD+RQOgBV0Jywu4DfMMwQr6ByUEbwNVBAUGegjeC3YOcgwKB+EAz/pK9tvzYfXo+boAHQipDNQPMBBkDCIEf/24+g352fcf+N786gBSAhwBBP/x+1r4bPTA8YDy5vRL9gf42fwDAtMBfv5s+6v6HPmw9fnyEfSi9kz5rfsjAm4K0hCKFIsVbxWBEB4IGgBz/7wDIgafBwMKMw5bEHEPaw7WDW0MaAjhBfUItQ5ZEhMRXg8tD2sNgwcH/yr7Q/ma91f3Q/utAC8DAgN4AgICRQEYAVsChAQWB5YHIwZPBAgCRv6m+Y34PvnN94b1YvJp8xz1sPZl+XL85P4X/yT/BwCs/2L+LPot9VDzU/S9+UYC2gujE80WsxZ0FJIRWww/Be//u/po9if0rfUJ+lD+AwLMBBAHXwjGCBAJHAlFCrkGbf9C+eb2a/UG89rwn/Hi81j2yvh0/IEB7AJf/732c/Bp7n3uJfHU9p7++AX/DP8SFhWtE1wNGwH09AfsauYZ5q/o6u029Tb8FAIrBu0GTQQT/vP3x/Nq8ZPw//QT/eoHOxG+Fm0XuxLVDCIGIf6P+FD09PAu8EjziPl7/9sD9wQZAun91Pji9Rv1wveP/UkD3AgLDZ8NwAqNBL/9a/Y77//oP+c156zoze0/9LL67v4RAnIDiATGBRUFxwTyBC0FAgV/A9X+wflm9LfwDvA98wH58f5BA3YGJApODdgKiQJ3+ELwQ+oo6GrqTvHt+ZUETAxQEUUVHxUMEUoLoQfzBXgDuwB8/nL+w/+4AXYBCwDm/d79p/4p/58AzwKmBycOLBT7FT4UBA2LAiv44u996ijme+ZS6p3ydP6pCJMO2w/9DYYJigJd+7P0wfEd8wn6MwWHDooT5xRzEZ8K9QNy/GD2e/Nf9tv9UQooGXYi8yTgIjwcUhFdBP73Ne5p65/uOvjKA34NNRMaF48YbRiCFmoPnAZJ/w/8R/xfALYCHv9S+WzzffDN8Zj3df+NBxMQmBcnG+IXzAyS/VHtd+Fw2zHYI9hb3inptfRL/xYIrw38D2UMsAV+/Q/2ZPBU7TTvX/fFAbkHYwnYCrILMwo1BnMAHPuH97H3MvvnAiUOphj7HjAkhiZvIXsVWQfQ++vza/Gx8nb3AwE6C0ISsxeyGTsXIRFTDOoHpwHZ+RnyHOl44Lvbpt3t47Dty/fAAPEI4g5/EAoNkQVY+RnpmNfqyvnFj8qD2GTr1P3XCRgNngiH/xb2s+0R6B3lmOcB7XbzYfqwAB4EeQScBL4FDAbNA9sBBgHmAHQAtAFRBdwIFw3UDgUQ2hJyFVsVyREqDdgGff96+LnzmfQF/DQINxTPHr8mkCh7I5EYOA33ABH1vurX5Z/lzegj7c3xNPjO/6EH8QwqDjYJhP/R8ozj09X9yzPKpdEf4Yr2WgvlGBcbLhE6AQvwsuCK1RHPW89B11rncfvNDIUYRx7aHQgY5A2fA4b5evPa80L7NgXEDpEVxRuHICol8yVtIxYfDxgeD6kFuv0896v0o/jfAxwUXiWuMTI4tDjgNZcrpBxUDI78dPLW7gvwlvMq+Mj8OwIfCbwN4g1eBz/8CO4K4XrVl85hzZbREuGA9G4KbBxeJrcl2xpfCC/wAdl3xwbBb8UZ0V/iE/Y0BpsQjxZqGNkX6hNwDqwI9QWvBsgIZwypEQMZDhwDHekgSCYIK0crxyWtHLYRWAEx7vLgz9735b/18Ao4ItU3tkUdSIhBzzL3HFkE6+9P5WPkEels8bv+wQujFG0YHRUwDNv8t+pO2hDQ8cqIyTrOBNv67n8C9A9tFZEWhhGHB6/37eRj0vbD7r1XwNLMzd2Q60P1NvuH/mn+xfxL+cX1L/fr+1kDigy7FQodjiGPIlchqB7mGogVhBB2DMwKOwdVACb5LPN+76Hwo/dJA4APSxkWHugfth7dGcESRQq9AKb58fa4+R//jAUIDcARQBQKEakHzvit6Kbalc6ox8HIh9Lg46T4iwrSFegYvxJkAwbvxtqQykLAEL29wEnL4dqU6lL2xv3OAEgAxPsu8/jodOA523rbi+F97qH/xxF9IogyNj7UQKk5misyGdoHpfRr5A3ceN4i6Pb0nwbXGRsqqTHjLK8gNxBHAFPze+td63DyC/+aDicfYitjMH8t7iKfE5gChfJG5NLbm9eM2HngG+w7+VIGohHUGGobpxogFOoI3/ef47bQ9sN5vo6/BMe206rkQfbCBYQPdBBTB3j4NekU3a3U5dCi0sbZC+p+ASUakC46PBtCaEAGOdErNBlYBR34BPIO8tz2jvzpAcYHkxCXGSEhziM3IbId+Rp5FrkOZwZ8AmkEiArBEV4YrBzDHBMZPxSxDFkCY/b66wLoLumR7DLyWPwhCYIS/RQJEUUJn/338IXnv+Mq4ivgrN0V3TbfueEq5LrnNupY60/sJ+7n8OPyNvMo8/H0J/cV+tr+EQWDDOoSJBcHG30gWyToI3AeeRYED90JcgcDCCsLpw+EFE4YvxcjFLcO/woHCqYO6RTeGsUfnCIjIIMZnA+fBdL9s/vn/ZoDswl/CyQJyQZdBmcDG/zH83HvTu8p89v3n/xCAF4BWfyD9arsQ+OV2GPUO9dK36bntuqE6dfnsOTJ4q/jm+db7F3zh/sqATUBovso9LztBOyS7lX39gQtFWYiGCojKxgkjRfdCcj9rPc69u74AQGpDosbwyK7Iy4fnxnXEc4ITAFd/6v/Of6Q/iYCFwl1D7oTZhR+EiANRQS2/LX4MPeU9LPy//QQ+94BMgSrBF4D4P+6+XPxQ+d/3HLV69O92STkWu+H9yL+RgNoA+X+l/Zo6+ThMNyX2pjbi99R45LmXe3m9lX+DAJbBR4M1hP8FqAUkRA4Dj4OGAzkB8sC6P4e/Mv95AUeDqcTJxbRFjAXPhUfEXQMDAnIBSoC0//E/+gCdAf4C7ARnBRkEwEPOAkuAwr97vbP8JPuk+/X8tv4e/75AjAGsAZ/AAT3kutp4HjZR9e82N3fC+xB+3IKIBbZGlsZPBKeBqL49eju2dfQ7s9A1nji0PIaBBwTxBwPIWcfiRirDjUHtAUBCJQLEw0bDaUM6wv5CtUJAAd7BJcFAQuNERkXJBqbGmYaVxhDE48N+AfKBA4DvQO5BBYGrAh5DTcRzxDgCtwAwfbq7wDr9ufx54rpuOxV8lz4Bv5EAmwDRgFC/N7zgemY4U/ebuKU7f7+uhF7IDgoFChvH0cQUP4i7PHdc9YO1iPc0OdW934IhhkYJTko5iMdG78R8Qee/KbzQe9R8VX3Uf4XBaoL9xGgFLUV7hX9E8cQmA3TCkcJmQZ8AiUAewDgARcD+AWACmYOlQ+WDOIHMQEP+ujzVO8X7Q/rd+le6QXtIPDF8THy4/Eh8kDz1/OS9IP34fhN+Uz79v3C/1kAZAGQAgoFjAWzA/ABjQJDArr+EPpK+C74V/io+Ln6Zf02ASUFQwhKC7YLfgdAAP/7Z/rX+Db4nPqO/osB2ADI/mH+AQBE/7/+7ADpBCwI1Ao+C5sKtQaM/rf2APQm9fz3Kf5xBnsOrhKlEFwKXwF+9YrpJ+Jk4ZPlWOv08Fz3Tvxp/EX5QPgX+OH4UPqa/Kr/bAKoAigABP1v+cH0yfEW83n3+P2fBYoMrxBPEA4LwgNf/aD4h/fc+Qv9cP5P/Fb44fZS+D35GPq5/TcCYAU5BxQISAj+BioE2wARAFkCbwTDBWQHHwp6ClUHwgGb/VP7jfra+T76jP9uB7AOqhEKEdcLjQLW+IbxEu/L8DT07PkaAZoHvQo4CjkGLQEB/Gv4APgL+qj7+/6OA/IFjgWCA1cBcwCm/47++v0V/lb+NAD9A2MI5wreCloKewsvDKUJWAVkACv6SvOc7SbrWOxY8Oz2Xf/dCasSiRbKFa4S6gz4BFT9NvkO+An4aPm0/KgB2gVlCRoMsgyfDFYKrQYIAwQBHv9+/ZP9a/7b/2MCQgReBWkG6gc7CfcJZAi8BJ8Bnf8t/x7/GP8XAL8CnAa/CtEMTQ0LDToKBwUL/zv5WfZL9cvzofJO9Wb6hwCJBlULmRC+EmYPqAfF/mz1oe2i6KXlPObP6qXxVvr3AgoLmhGvFIcSwg16B07/+PW+7k/sVPAN+Pr+pQQtCVgLcQm0BM3/avur9svyNvJx9fj5Dv6RAggJXw9wE40TChBhC3gGBgFM/EX6CPom+iD7v/2QAVwFjgdMBzgF/gEA/WP4iPWp823y2vI39Tz5Z/02AVEDJAREA98APf1T+lX5MPqX+sH54fhx9rTzzPC97djrqe0X8dH0/PkJ/5sAUwDw/pz97/wE/fn8Q/yd/BD/igKDBRIH9gX6AUz8kPZO8RHvnfDJ9JD5Ev9YBZkK6gxnDdoMkAsnCvwHVgVGA1UDEASVBbEH2wgOCRUJlAlACXoGgAIj/z/86fg79nL1DfZp+Dj9QgPcB0cJqgfcA3AA8f2X+nT3f/Yn+TX9pABvAwgEIQLr/WT5lvUG8nLv4u+N8afzXvbE+TT92v8dAoIDlAS6BDwEOwUuCMQKVwlkBD3/6/sN+Yj3Avmn/cYD4wgWDCsNQwxlChoIRAa0BbAFYAagCAALygxRDs8Q3xIqE+gRhQ9aDeUK6Qb8AXj9lPpa+9j+1QPmCEsLJApcCJoHkwUNAxsB9v5h/MH5vfg6+i794P+WApIEewRxAWP72vRp8HnuMu1z7ILuyPLo9pj5XPtO+z/6pfnp+Uj7gPzN/X3/CgLOAykDdQAg/sj90v5HANICzQUrCNgIWQjIBoIFFwN6AOn+mgD7A/oHEwyoEPITDxVwFE4TUBClCk4Ejf+j/oUANgJTApsDMwdmCssL7AskCwkIkgJ3/N74OPjG+bz7kfwU/Lf7Mvx1/tsBMARHAtb7APIh6HPi8+Iv57TqWezM7JPtJO8t8UPzuPQh9X31p/UK9P7yKPTA96r7C/92AfMC1ANxBGkExASrBOIDzQERABT/pPz/+PD2t/ek+7cAaAa7CwAPww+KDX4JJwXnAu4BhABq/+D+NQA/AwUF8AP9Ad4AgwDx/tz7XPmP+BH5fvlf+vz7if46AmQFmgZABgAGugXiBHsDKgHo/KT2zvAH7i/v0fFB9N7zs/De7THtJu7f7wnyePQK9wr5NPpP+nT68vs2/u4AagPUBUkIawp9DD0MLwoUB/QDpwAR/sz7mfox/EABugcbDBwOog9NEMwOIgyvCYEIIgg7CPYHqwcyCK4ILAgfB5MFcAMVAVb+Q/u4+FT3Xffz97353fwtASMEYwYrCAgIzAYEBn8GMQf2B50IKAcoA8L+e/yp+0L7HPlY9bHwEO5f7j7vkPAl9BH4ZPnZ+J/4gfk3+wD9Kf68/yoCmAXqB3UJiguJDEEJNwO2/sD93v4SAEkBXwQ2CUwMKgu5CCkJ0QoBCwoLJwyYDZ8OZg5kDZwLughNBpIF7AZvCKkHHQTRANr+HP3i+0H8y/zK/AX9EP7v/yUC0gIUAvEApABhAd8CjwVKCPkHxwO7/iz7o/nS+l/8X/te+Vr5OPtX+yb5wPbh9SH2s/VP9MvzV/UG9jn0m/Kc9Jb46/rh+8z8Iv3N+1P7dvxs/z4DqAV8BncHYQkICkQIYQY2BpYGVwaCBmoHAQhrCAoIywZdBDsCZAAAANMCNAgkC9kIJQQTAdT/oP/P/9z/gwBPAXIBwgDgAFYCIQJVAGn+lP09/nv/ZgDB/mD7APgH9pj1OffS+UL6Yvk2+UX5zffV9Xv0F/Si8xXzyfHn8PvwmPA77wHwMfOQ9cf06/IZ8qryOPTF93z8/QBQBHIFRgU/BhcJAgvjCrcK4QqkCjAJ8wgrCuwLOAyyC1AKSgi0BQ8E0gRTCAMMPQ0SC6MGzwFp/1cABwObBIcDTAI1ApkB6f90/lz+3/6t/vP8Z/uV+x79r/3m/Lr7vPpt+6788/x0/FD84/xa/D76d/je+IP5+fjt9lT0GPOX9En1W/Oc8sr1mfn7+Tn5n/lG+of60ftr/8wERQqzDAUMCAvsDB8QtBEHEnoSqhHEDooMjAvLCqIJGwnKCDsI/AZ6BSsF/AYkCkINlwzeB+wBu/7m/o0AdADV/sj9+/68/xb/YP4Y/7gAiQDN/ZL7A/0JAAMAY/1k+/H7vv0b/lP9EP3H/mkANADp/f/77fuX+5v6oPiG9sf02vMO8xnyRPPl9hL6W/o8+Sf5gvoS+0f8mf9NBMYH7Af4BX0EsAUACR8KZAjcBhwGRQRpAdYA9AKjBAQFewQ3AhwBsALSBDoFWQbMCX4LcAiTA7EBDgO1BJMESAKUAWoERwYXBKgCvAXtCC8HZwFp/loBPgW0BOf/+vyT/fT9WfsF+R/6Gf3E/av7EPgO9hP2lvV29FL0/PSZ9Mjxm+7k7F3unvIr9hL2svQE9SX2f/a292j7LAFeBUwFvAJNAU0CBwRkBkkJvgutC7UIigXKBFkFXgaoBpUFTQRTAzcCXQGAAosF9giICg0IFQQTAkgCcwJDAdMAvwLCBNgDkgGKATIEdAYgBRsBdv+dAXQEaAMlAEn/gwAr/3P6J/dS+M76C/to+Sj3+/UA9fnzl/ME9nb6M/w5+Lbx0e7j8Ov12/lJ+pT4RvYV9H/ygvJS9j/9AwMsAwsA+/0h/+4BegZ5CyoOcAxNCOEEvAM/BXgHUQdYBRkEWQONAVMAhQOrCCMMZwyYCf8FuwSDBdoF0gRKBDYF5gSXA4QC5gLfBI0GoAXXAm0CZAUjCIIHLAWBA3ACxgC2/az75vul/Cf7OPjW9jn4V/oz+w37OPvQ/En+uf2O/Kn8i/3S/Jj6i/mR+/D+hAC4/k/7xfnR+6T+KADwAP8BtwLcAjcElAZGCaIJ0QaNAxMC+QHzAV0B4ADnABb/2ftG+iv9yQJSB7QHoAUfA1EBaP+e/rIBcQeZCuwItgS3AcoB4wN4BokHAAeYBnYFqgLHADwCZwTNAy0BTf4X/DT6H/lp+En3k/cr+hH7mfqE+7f+HAG0AK7+S/yX+5/8Ev07+9D5n/vB/Zr9i/wG/eb9Mv4g/mL9ffwe/TX/swHtA1QFAQVmAoL/iv7g/0oBPQGeAFkAmgAbAJz+m/7XAWEF9wUWAwcBGwF+AZH/bv1H/h8BSAJpAYEAWwEcA9oDfgL5Af0DOAYsBXgBy/7D/tz+Pv15+5v75fyz+334mfXG9KH2HPqe/RAAZgEKAtEBDAHWAXED3gJR/zL79/eY9zz6A/5s/yb+z/vq+AX3kfhp/Oj+6v7r/TD+8P+cAucD/gLAAcUAf/9f/jr/eQFIA+gCOACp+1P58fuyATwFggWqAyMBVv5T/FX7Ev5CA3cGVgV3A2sD\" type=\"audio/wav\" />\n",
       "                    Your browser does not support the audio element.\n",
       "                </audio>\n",
       "              "
      ],
      "text/plain": [
       "<IPython.lib.display.Audio object>"
      ]
     },
     "execution_count": 24,
     "metadata": {},
     "output_type": "execute_result"
    }
   ],
   "source": [
    "ipd.Audio(dataset['data'][3], rate=SAMPLE_RATE)"
   ]
  },
  {
   "cell_type": "code",
   "execution_count": 17,
   "metadata": {},
   "outputs": [
    {
     "name": "stdout",
     "output_type": "stream",
     "text": [
      "transforms timer: 0.9649059772491455\n"
     ]
    }
   ],
   "source": [
    "import time\n",
    "import torch\n",
    "\n",
    "start = time.time()\n",
    "dataset = torch.load('/home/thalles/daitan-workspace/voice_rocognizer/train_valid.pt')\n",
    "end = time.time()\n",
    "print(\"transforms timer:\", end-start)"
   ]
  }
 ],
 "metadata": {
  "kernelspec": {
   "display_name": "audio",
   "language": "python",
   "name": "audio"
  },
  "language_info": {
   "codemirror_mode": {
    "name": "ipython",
    "version": 3
   },
   "file_extension": ".py",
   "mimetype": "text/x-python",
   "name": "python",
   "nbconvert_exporter": "python",
   "pygments_lexer": "ipython3",
   "version": "3.6.9"
  }
 },
 "nbformat": 4,
 "nbformat_minor": 2
}
